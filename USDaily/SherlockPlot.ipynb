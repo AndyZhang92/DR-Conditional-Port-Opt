{
 "cells": [
  {
   "cell_type": "code",
   "execution_count": 1,
   "id": "obvious-necklace",
   "metadata": {},
   "outputs": [],
   "source": [
    "%load_ext autoreload\n",
    "%autoreload 1\n",
    "%aimport utils\n",
    "%aimport utils.path\n",
    "%aimport utils.backtest\n",
    "%aimport utils.backtest_result\n",
    "%aimport solvers\n",
    "%aimport solvers.DRconditionalmeanvariance"
   ]
  },
  {
   "cell_type": "code",
   "execution_count": 2,
   "id": "primary-theta",
   "metadata": {},
   "outputs": [],
   "source": [
    "import tushare\n",
    "import numpy as np\n",
    "import pandas as pd\n",
    "import matplotlib.pyplot as plt\n",
    "import tqdm\n",
    "import sys\n",
    "import factors"
   ]
  },
  {
   "cell_type": "code",
   "execution_count": 4,
   "id": "departmental-intellectual",
   "metadata": {},
   "outputs": [],
   "source": [
    "exp_num = 50\n",
    "seed = 42\n",
    "DRCME_inf_params = {\n",
    "    'model_name': ['DRCMV'],\n",
    "    'exp_num':[50], \n",
    "    'sample_stock_num':[20], \n",
    "    'solver':[solvers.DRconditionalmeanvariance.DR_Winfty_conditional_mean_variance_long_only_opt_cvx_kernel], \n",
    "    'start_index':['2012'],\n",
    "    'end_index':['2014'],\n",
    "    'reg_params':[2.0], \n",
    "    'gamma_quantile':[0.1, 0.25, 0.5], \n",
    "    'rho_quantile':[0.05, 0.1, 0.25], \n",
    "}\n",
    "DRCME_2_params = {\n",
    "    'model_name': ['OTCMV'],\n",
    "    'exp_num':[50], \n",
    "    'sample_stock_num':[20], \n",
    "    'solver':[solvers.DRconditionalmeanvariance.DR_W2_conditional_mean_variance_long_only_opt_cvx_kernel_new], \n",
    "    'start_index':['2012'],\n",
    "    'end_index':['2014'],\n",
    "    'reg_params':[2.0], \n",
    "    'epsilon':[0.2], \n",
    "    'rho_div_rho_min':[1.2]\n",
    "}\n",
    "equal_weight_params = {\n",
    "    'model_name': ['EW'],\n",
    "    'exp_num':[50], \n",
    "    'sample_stock_num':[20], \n",
    "    'solver':[solvers.simple.equal_weight], \n",
    "    'start_index':['2012'],\n",
    "    'end_index':['2014'],\n",
    "}\n",
    "DR_params = {\n",
    "    'model_name': ['DRMV'],\n",
    "    'exp_num':[50], \n",
    "    'sample_stock_num':[20], \n",
    "    'solver':[solvers.DRmeanvariance.DR_mean_variance_long_only_opt_mosek_kernel_p2], \n",
    "    'reg_params':[2.0],\n",
    "    'delta': [0.1,0.2,0.5],\n",
    "    'p': [2.0],\n",
    "    'start_index':['2012'],\n",
    "    'end_index':['2014'],\n",
    "}\n",
    "mean_variance_params = {\n",
    "    'model_name': ['MV'],\n",
    "    'exp_num':[50], \n",
    "    'sample_stock_num':[20], \n",
    "    'solver':[solvers.meanvariance.mean_variance_long_only_opt_mosek_kernel], \n",
    "    'solver_name_prefix': ['vanilla_'],\n",
    "    'reg_params':[2.0], \n",
    "    'start_index':['2012'],\n",
    "    'end_index':['2014'],\n",
    "}\n",
    "conditional_mean_variance_params = {\n",
    "    'model_name': ['CMV'],\n",
    "    'exp_num':[50], \n",
    "    'sample_stock_num':[20], \n",
    "    'solver':[solvers.meanvariance.mean_variance_long_only_opt_mosek_kernel], \n",
    "    'solver_name_prefix': ['fama_french_'],\n",
    "    'reg_params':[2.0], \n",
    "    'start_index':['2012'],\n",
    "    'end_index':['2014'],\n",
    "}"
   ]
  },
  {
   "cell_type": "code",
   "execution_count": 5,
   "id": "friendly-letters",
   "metadata": {},
   "outputs": [],
   "source": [
    "plt.rc('axes', facecolor='#dedede', edgecolor='none',\n",
    "       axisbelow=True, grid=True)\n",
    "plt.rc('grid', color='w', linestyle='solid')\n",
    "plt.rc('xtick', direction='out', color='black')\n",
    "plt.rc('ytick', direction='out', color='black')\n",
    "plt.rc('patch', edgecolor='#dedede')\n",
    "plt.rcParams['figure.figsize'] = 8,6\n",
    "plt.rcParams['font.size'] = 14\n",
    "cycle = plt.rcParams['axes.prop_cycle'].by_key()['color']"
   ]
  },
  {
   "cell_type": "code",
   "execution_count": 9,
   "id": "pressed-specific",
   "metadata": {
    "scrolled": false
   },
   "outputs": [
    {
     "ename": "KeyboardInterrupt",
     "evalue": "",
     "output_type": "error",
     "traceback": [
      "\u001b[0;31m---------------------------------------------------------------------------\u001b[0m",
      "\u001b[0;31mKeyboardInterrupt\u001b[0m                         Traceback (most recent call last)",
      "\u001b[0;32m<ipython-input-9-203a6a41dec0>\u001b[0m in \u001b[0;36m<module>\u001b[0;34m\u001b[0m\n\u001b[1;32m      4\u001b[0m                                                                             \u001b[0mconditional_mean_variance_params\u001b[0m\u001b[0;34m,\u001b[0m\u001b[0;34m\u001b[0m\u001b[0m\n\u001b[1;32m      5\u001b[0m                                                                             \u001b[0mDRCME_inf_params\u001b[0m\u001b[0;34m,\u001b[0m\u001b[0;34m\u001b[0m\u001b[0m\n\u001b[0;32m----> 6\u001b[0;31m                                                                             DRCME_2_params])\n\u001b[0m",
      "\u001b[0;32m/home/groups/jblanche/DR-Conditional-Port-Opt/USDaily/utils/backtest_result_sherlock.py\u001b[0m in \u001b[0;36mplot_backtest_cross_validation_result\u001b[0;34m(exp_num, seed, CV_params_dict_list)\u001b[0m\n\u001b[1;32m    239\u001b[0m \u001b[0;32mdef\u001b[0m \u001b[0mplot_backtest_cross_validation_result\u001b[0m\u001b[0;34m(\u001b[0m\u001b[0mexp_num\u001b[0m\u001b[0;34m,\u001b[0m \u001b[0mseed\u001b[0m\u001b[0;34m,\u001b[0m \u001b[0mCV_params_dict_list\u001b[0m\u001b[0;34m)\u001b[0m\u001b[0;34m:\u001b[0m\u001b[0;34m\u001b[0m\u001b[0m\n\u001b[1;32m    240\u001b[0m     PnL_table_list = [read_single_solver_backtest_cross_validation_result(exp_num, seed, CV_params_dict)\n\u001b[0;32m--> 241\u001b[0;31m                       for CV_params_dict in CV_params_dict_list]\n\u001b[0m\u001b[1;32m    242\u001b[0m     \u001b[0mlegend_str_list\u001b[0m \u001b[0;34m=\u001b[0m \u001b[0;34m[\u001b[0m\u001b[0mCV_params_dict\u001b[0m\u001b[0;34m[\u001b[0m\u001b[0;34m'model_name'\u001b[0m\u001b[0;34m]\u001b[0m\u001b[0;34m[\u001b[0m\u001b[0;36m0\u001b[0m\u001b[0;34m]\u001b[0m \u001b[0;32mfor\u001b[0m \u001b[0mCV_params_dict\u001b[0m \u001b[0;32min\u001b[0m \u001b[0mCV_params_dict_list\u001b[0m\u001b[0;34m]\u001b[0m\u001b[0;34m\u001b[0m\u001b[0m\n\u001b[1;32m    243\u001b[0m     \u001b[0mplot_backtest_sharpe_box\u001b[0m\u001b[0;34m(\u001b[0m\u001b[0mPnL_table_list\u001b[0m\u001b[0;34m,\u001b[0m \u001b[0mlegend_str_list\u001b[0m\u001b[0;34m)\u001b[0m\u001b[0;34m\u001b[0m\u001b[0m\n",
      "\u001b[0;32m/home/groups/jblanche/DR-Conditional-Port-Opt/USDaily/utils/backtest_result_sherlock.py\u001b[0m in \u001b[0;36m<listcomp>\u001b[0;34m(.0)\u001b[0m\n\u001b[1;32m    239\u001b[0m \u001b[0;32mdef\u001b[0m \u001b[0mplot_backtest_cross_validation_result\u001b[0m\u001b[0;34m(\u001b[0m\u001b[0mexp_num\u001b[0m\u001b[0;34m,\u001b[0m \u001b[0mseed\u001b[0m\u001b[0;34m,\u001b[0m \u001b[0mCV_params_dict_list\u001b[0m\u001b[0;34m)\u001b[0m\u001b[0;34m:\u001b[0m\u001b[0;34m\u001b[0m\u001b[0m\n\u001b[1;32m    240\u001b[0m     PnL_table_list = [read_single_solver_backtest_cross_validation_result(exp_num, seed, CV_params_dict)\n\u001b[0;32m--> 241\u001b[0;31m                       for CV_params_dict in CV_params_dict_list]\n\u001b[0m\u001b[1;32m    242\u001b[0m     \u001b[0mlegend_str_list\u001b[0m \u001b[0;34m=\u001b[0m \u001b[0;34m[\u001b[0m\u001b[0mCV_params_dict\u001b[0m\u001b[0;34m[\u001b[0m\u001b[0;34m'model_name'\u001b[0m\u001b[0;34m]\u001b[0m\u001b[0;34m[\u001b[0m\u001b[0;36m0\u001b[0m\u001b[0;34m]\u001b[0m \u001b[0;32mfor\u001b[0m \u001b[0mCV_params_dict\u001b[0m \u001b[0;32min\u001b[0m \u001b[0mCV_params_dict_list\u001b[0m\u001b[0;34m]\u001b[0m\u001b[0;34m\u001b[0m\u001b[0m\n\u001b[1;32m    243\u001b[0m     \u001b[0mplot_backtest_sharpe_box\u001b[0m\u001b[0;34m(\u001b[0m\u001b[0mPnL_table_list\u001b[0m\u001b[0;34m,\u001b[0m \u001b[0mlegend_str_list\u001b[0m\u001b[0;34m)\u001b[0m\u001b[0;34m\u001b[0m\u001b[0m\n",
      "\u001b[0;32m/home/groups/jblanche/DR-Conditional-Port-Opt/USDaily/utils/backtest_result_sherlock.py\u001b[0m in \u001b[0;36mread_single_solver_backtest_cross_validation_result\u001b[0;34m(exp_num, seed, CV_params_dict, validation_start_index, validation_end_index, test_start_index, test_end_index)\u001b[0m\n\u001b[1;32m    204\u001b[0m         \u001b[0mfile_fmt\u001b[0m \u001b[0;34m=\u001b[0m \u001b[0mget_file_path_and_create_dir\u001b[0m\u001b[0;34m(\u001b[0m\u001b[0mexp\u001b[0m\u001b[0;34m,\u001b[0m \u001b[0mseed\u001b[0m\u001b[0;34m,\u001b[0m \u001b[0msolver\u001b[0m\u001b[0;34m,\u001b[0m \u001b[0msolver_name_prefix\u001b[0m\u001b[0;34m,\u001b[0m \u001b[0;34m**\u001b[0m\u001b[0msolver_kwargs\u001b[0m\u001b[0;34m)\u001b[0m\u001b[0;34m\u001b[0m\u001b[0m\n\u001b[1;32m    205\u001b[0m         \u001b[0mtest_PnL_list\u001b[0m\u001b[0;34m.\u001b[0m\u001b[0mappend\u001b[0m\u001b[0;34m(\u001b[0m\u001b[0mpd\u001b[0m\u001b[0;34m.\u001b[0m\u001b[0mread_pickle\u001b[0m\u001b[0;34m(\u001b[0m\u001b[0mfile_fmt\u001b[0m\u001b[0;34m.\u001b[0m\u001b[0mformat\u001b[0m\u001b[0;34m(\u001b[0m\u001b[0;34m'PnL'\u001b[0m\u001b[0;34m)\u001b[0m\u001b[0;34m)\u001b[0m\u001b[0;34m)\u001b[0m\u001b[0;34m\u001b[0m\u001b[0m\n\u001b[0;32m--> 206\u001b[0;31m     \u001b[0mtest_PnL_table\u001b[0m \u001b[0;34m=\u001b[0m \u001b[0mpd\u001b[0m\u001b[0;34m.\u001b[0m\u001b[0mDataFrame\u001b[0m\u001b[0;34m(\u001b[0m\u001b[0mtest_PnL_list\u001b[0m\u001b[0;34m)\u001b[0m\u001b[0;34m.\u001b[0m\u001b[0mtranspose\u001b[0m\u001b[0;34m(\u001b[0m\u001b[0;34m)\u001b[0m\u001b[0;34m[\u001b[0m\u001b[0mtest_start_index\u001b[0m\u001b[0;34m:\u001b[0m\u001b[0mtest_end_index\u001b[0m\u001b[0;34m]\u001b[0m\u001b[0;34m\u001b[0m\u001b[0m\n\u001b[0m\u001b[1;32m    207\u001b[0m     \u001b[0;32mreturn\u001b[0m \u001b[0mtest_PnL_table\u001b[0m\u001b[0;34m\u001b[0m\u001b[0m\n\u001b[1;32m    208\u001b[0m \u001b[0;34m\u001b[0m\u001b[0m\n",
      "\u001b[0;32m/home/groups/jblanche/DR-Conditional-Port-Opt/port-opt-env/lib/python3.6/site-packages/pandas/core/frame.py\u001b[0m in \u001b[0;36m__init__\u001b[0;34m(self, data, index, columns, dtype, copy)\u001b[0m\n\u001b[1;32m    507\u001b[0m                     \u001b[0;32mif\u001b[0m \u001b[0mis_named_tuple\u001b[0m\u001b[0;34m(\u001b[0m\u001b[0mdata\u001b[0m\u001b[0;34m[\u001b[0m\u001b[0;36m0\u001b[0m\u001b[0;34m]\u001b[0m\u001b[0;34m)\u001b[0m \u001b[0;32mand\u001b[0m \u001b[0mcolumns\u001b[0m \u001b[0;32mis\u001b[0m \u001b[0;32mNone\u001b[0m\u001b[0;34m:\u001b[0m\u001b[0;34m\u001b[0m\u001b[0m\n\u001b[1;32m    508\u001b[0m                         \u001b[0mcolumns\u001b[0m \u001b[0;34m=\u001b[0m \u001b[0mdata\u001b[0m\u001b[0;34m[\u001b[0m\u001b[0;36m0\u001b[0m\u001b[0;34m]\u001b[0m\u001b[0;34m.\u001b[0m\u001b[0m_fields\u001b[0m\u001b[0;34m\u001b[0m\u001b[0m\n\u001b[0;32m--> 509\u001b[0;31m                     \u001b[0marrays\u001b[0m\u001b[0;34m,\u001b[0m \u001b[0mcolumns\u001b[0m \u001b[0;34m=\u001b[0m \u001b[0mto_arrays\u001b[0m\u001b[0;34m(\u001b[0m\u001b[0mdata\u001b[0m\u001b[0;34m,\u001b[0m \u001b[0mcolumns\u001b[0m\u001b[0;34m,\u001b[0m \u001b[0mdtype\u001b[0m\u001b[0;34m=\u001b[0m\u001b[0mdtype\u001b[0m\u001b[0;34m)\u001b[0m\u001b[0;34m\u001b[0m\u001b[0m\n\u001b[0m\u001b[1;32m    510\u001b[0m                     \u001b[0mcolumns\u001b[0m \u001b[0;34m=\u001b[0m \u001b[0mensure_index\u001b[0m\u001b[0;34m(\u001b[0m\u001b[0mcolumns\u001b[0m\u001b[0;34m)\u001b[0m\u001b[0;34m\u001b[0m\u001b[0m\n\u001b[1;32m    511\u001b[0m \u001b[0;34m\u001b[0m\u001b[0m\n",
      "\u001b[0;32m/home/groups/jblanche/DR-Conditional-Port-Opt/port-opt-env/lib/python3.6/site-packages/pandas/core/internals/construction.py\u001b[0m in \u001b[0;36mto_arrays\u001b[0;34m(data, columns, coerce_float, dtype)\u001b[0m\n\u001b[1;32m    529\u001b[0m     \u001b[0;32melif\u001b[0m \u001b[0misinstance\u001b[0m\u001b[0;34m(\u001b[0m\u001b[0mdata\u001b[0m\u001b[0;34m[\u001b[0m\u001b[0;36m0\u001b[0m\u001b[0;34m]\u001b[0m\u001b[0;34m,\u001b[0m \u001b[0mABCSeries\u001b[0m\u001b[0;34m)\u001b[0m\u001b[0;34m:\u001b[0m\u001b[0;34m\u001b[0m\u001b[0m\n\u001b[1;32m    530\u001b[0m         return _list_of_series_to_arrays(\n\u001b[0;32m--> 531\u001b[0;31m             \u001b[0mdata\u001b[0m\u001b[0;34m,\u001b[0m \u001b[0mcolumns\u001b[0m\u001b[0;34m,\u001b[0m \u001b[0mcoerce_float\u001b[0m\u001b[0;34m=\u001b[0m\u001b[0mcoerce_float\u001b[0m\u001b[0;34m,\u001b[0m \u001b[0mdtype\u001b[0m\u001b[0;34m=\u001b[0m\u001b[0mdtype\u001b[0m\u001b[0;34m\u001b[0m\u001b[0m\n\u001b[0m\u001b[1;32m    532\u001b[0m         )\n\u001b[1;32m    533\u001b[0m     \u001b[0;32melif\u001b[0m \u001b[0misinstance\u001b[0m\u001b[0;34m(\u001b[0m\u001b[0mdata\u001b[0m\u001b[0;34m[\u001b[0m\u001b[0;36m0\u001b[0m\u001b[0;34m]\u001b[0m\u001b[0;34m,\u001b[0m \u001b[0mCategorical\u001b[0m\u001b[0;34m)\u001b[0m\u001b[0;34m:\u001b[0m\u001b[0;34m\u001b[0m\u001b[0m\n",
      "\u001b[0;32m/home/groups/jblanche/DR-Conditional-Port-Opt/port-opt-env/lib/python3.6/site-packages/pandas/core/internals/construction.py\u001b[0m in \u001b[0;36m_list_of_series_to_arrays\u001b[0;34m(data, columns, coerce_float, dtype)\u001b[0m\n\u001b[1;32m    594\u001b[0m \u001b[0;34m\u001b[0m\u001b[0m\n\u001b[1;32m    595\u001b[0m         \u001b[0mvalues\u001b[0m \u001b[0;34m=\u001b[0m \u001b[0mextract_array\u001b[0m\u001b[0;34m(\u001b[0m\u001b[0ms\u001b[0m\u001b[0;34m,\u001b[0m \u001b[0mextract_numpy\u001b[0m\u001b[0;34m=\u001b[0m\u001b[0;32mTrue\u001b[0m\u001b[0;34m)\u001b[0m\u001b[0;34m\u001b[0m\u001b[0m\n\u001b[0;32m--> 596\u001b[0;31m         \u001b[0maligned_values\u001b[0m\u001b[0;34m.\u001b[0m\u001b[0mappend\u001b[0m\u001b[0;34m(\u001b[0m\u001b[0malgorithms\u001b[0m\u001b[0;34m.\u001b[0m\u001b[0mtake_1d\u001b[0m\u001b[0;34m(\u001b[0m\u001b[0mvalues\u001b[0m\u001b[0;34m,\u001b[0m \u001b[0mindexer\u001b[0m\u001b[0;34m)\u001b[0m\u001b[0;34m)\u001b[0m\u001b[0;34m\u001b[0m\u001b[0m\n\u001b[0m\u001b[1;32m    597\u001b[0m \u001b[0;34m\u001b[0m\u001b[0m\n\u001b[1;32m    598\u001b[0m     \u001b[0mvalues\u001b[0m \u001b[0;34m=\u001b[0m \u001b[0mnp\u001b[0m\u001b[0;34m.\u001b[0m\u001b[0mvstack\u001b[0m\u001b[0;34m(\u001b[0m\u001b[0maligned_values\u001b[0m\u001b[0;34m)\u001b[0m\u001b[0;34m\u001b[0m\u001b[0m\n",
      "\u001b[0;32m/home/groups/jblanche/DR-Conditional-Port-Opt/port-opt-env/lib/python3.6/site-packages/pandas/core/algorithms.py\u001b[0m in \u001b[0;36mtake_nd\u001b[0;34m(arr, indexer, axis, out, fill_value, allow_fill)\u001b[0m\n\u001b[1;32m   1733\u001b[0m \u001b[0;34m\u001b[0m\u001b[0m\n\u001b[1;32m   1734\u001b[0m     func = _get_take_nd_function(\n\u001b[0;32m-> 1735\u001b[0;31m         \u001b[0marr\u001b[0m\u001b[0;34m.\u001b[0m\u001b[0mndim\u001b[0m\u001b[0;34m,\u001b[0m \u001b[0marr\u001b[0m\u001b[0;34m.\u001b[0m\u001b[0mdtype\u001b[0m\u001b[0;34m,\u001b[0m \u001b[0mout\u001b[0m\u001b[0;34m.\u001b[0m\u001b[0mdtype\u001b[0m\u001b[0;34m,\u001b[0m \u001b[0maxis\u001b[0m\u001b[0;34m=\u001b[0m\u001b[0maxis\u001b[0m\u001b[0;34m,\u001b[0m \u001b[0mmask_info\u001b[0m\u001b[0;34m=\u001b[0m\u001b[0mmask_info\u001b[0m\u001b[0;34m\u001b[0m\u001b[0m\n\u001b[0m\u001b[1;32m   1736\u001b[0m     )\n\u001b[1;32m   1737\u001b[0m     \u001b[0mfunc\u001b[0m\u001b[0;34m(\u001b[0m\u001b[0marr\u001b[0m\u001b[0;34m,\u001b[0m \u001b[0mindexer\u001b[0m\u001b[0;34m,\u001b[0m \u001b[0mout\u001b[0m\u001b[0;34m,\u001b[0m \u001b[0mfill_value\u001b[0m\u001b[0;34m)\u001b[0m\u001b[0;34m\u001b[0m\u001b[0m\n",
      "\u001b[0;32m/home/groups/jblanche/DR-Conditional-Port-Opt/port-opt-env/lib/python3.6/site-packages/pandas/core/algorithms.py\u001b[0m in \u001b[0;36m_get_take_nd_function\u001b[0;34m(ndim, arr_dtype, out_dtype, axis, mask_info)\u001b[0m\n\u001b[1;32m   1513\u001b[0m ):\n\u001b[1;32m   1514\u001b[0m     \u001b[0;32mif\u001b[0m \u001b[0mndim\u001b[0m \u001b[0;34m<=\u001b[0m \u001b[0;36m2\u001b[0m\u001b[0;34m:\u001b[0m\u001b[0;34m\u001b[0m\u001b[0m\n\u001b[0;32m-> 1515\u001b[0;31m         \u001b[0mtup\u001b[0m \u001b[0;34m=\u001b[0m \u001b[0;34m(\u001b[0m\u001b[0marr_dtype\u001b[0m\u001b[0;34m.\u001b[0m\u001b[0mname\u001b[0m\u001b[0;34m,\u001b[0m \u001b[0mout_dtype\u001b[0m\u001b[0;34m.\u001b[0m\u001b[0mname\u001b[0m\u001b[0;34m)\u001b[0m\u001b[0;34m\u001b[0m\u001b[0m\n\u001b[0m\u001b[1;32m   1516\u001b[0m         \u001b[0;32mif\u001b[0m \u001b[0mndim\u001b[0m \u001b[0;34m==\u001b[0m \u001b[0;36m1\u001b[0m\u001b[0;34m:\u001b[0m\u001b[0;34m\u001b[0m\u001b[0m\n\u001b[1;32m   1517\u001b[0m             \u001b[0mfunc\u001b[0m \u001b[0;34m=\u001b[0m \u001b[0m_take_1d_dict\u001b[0m\u001b[0;34m.\u001b[0m\u001b[0mget\u001b[0m\u001b[0;34m(\u001b[0m\u001b[0mtup\u001b[0m\u001b[0;34m,\u001b[0m \u001b[0;32mNone\u001b[0m\u001b[0;34m)\u001b[0m\u001b[0;34m\u001b[0m\u001b[0m\n",
      "\u001b[0;32m/home/groups/jblanche/DR-Conditional-Port-Opt/port-opt-env/lib/python3.6/site-packages/numpy/core/_dtype.py\u001b[0m in \u001b[0;36m_name_get\u001b[0;34m(dtype)\u001b[0m\n\u001b[1;32m    319\u001b[0m \u001b[0;34m\u001b[0m\u001b[0m\n\u001b[1;32m    320\u001b[0m \u001b[0;34m\u001b[0m\u001b[0m\n\u001b[0;32m--> 321\u001b[0;31m \u001b[0;32mdef\u001b[0m \u001b[0m_name_get\u001b[0m\u001b[0;34m(\u001b[0m\u001b[0mdtype\u001b[0m\u001b[0;34m)\u001b[0m\u001b[0;34m:\u001b[0m\u001b[0;34m\u001b[0m\u001b[0m\n\u001b[0m\u001b[1;32m    322\u001b[0m     \u001b[0;31m# provides dtype.name.__get__, documented as returning a \"bit name\"\u001b[0m\u001b[0;34m\u001b[0m\u001b[0;34m\u001b[0m\u001b[0m\n\u001b[1;32m    323\u001b[0m \u001b[0;34m\u001b[0m\u001b[0m\n",
      "\u001b[0;31mKeyboardInterrupt\u001b[0m: "
     ]
    }
   ],
   "source": [
    "utils.backtest_result_sherlock.plot_backtest_cross_validation_result(256, 0, [equal_weight_params,\n",
    "                                                                            mean_variance_params,\n",
    "                                                                            DR_params,\n",
    "                                                                            conditional_mean_variance_params,\n",
    "                                                                            DRCME_inf_params,\n",
    "                                                                            DRCME_2_params])"
   ]
  },
  {
   "cell_type": "code",
   "execution_count": 6,
   "id": "light-interference",
   "metadata": {},
   "outputs": [],
   "source": [
    "from utils.backtest_result_sherlock import read_single_solver_backtest_cross_validation_result\n",
    "CV_params_dict_list = [equal_weight_params,\n",
    "                     mean_variance_params,\n",
    "                     DR_params,\n",
    "                     conditional_mean_variance_params,\n",
    "                     DRCME_inf_params,\n",
    "                     DRCME_2_params]\n",
    "exp_num = 256; seed = 0;\n",
    "PnL_table_list = [read_single_solver_backtest_cross_validation_result(exp_num, seed, CV_params_dict)\n",
    "                      for CV_params_dict in CV_params_dict_list]\n",
    "legend_str_list = [CV_params_dict['model_name'][0] for CV_params_dict in CV_params_dict_list]"
   ]
  },
  {
   "cell_type": "code",
   "execution_count": 7,
   "id": "affiliated-collins",
   "metadata": {
    "scrolled": true
   },
   "outputs": [],
   "source": [
    "SR_table = pd.DataFrame({legend_str_list[i]:np.sqrt(252) * PnL_table_list[i].mean() \n",
    "                         / PnL_table_list[i].std() for i in range(6)})"
   ]
  },
  {
   "cell_type": "code",
   "execution_count": 8,
   "id": "southwest-stocks",
   "metadata": {},
   "outputs": [
    {
     "data": {
      "image/png": "[encoded data removed]",
      "text/plain": [
       "<Figure size 576x432 with 1 Axes>"
      ]
     },
     "metadata": {
      "needs_background": "light"
     },
     "output_type": "display_data"
    }
   ],
   "source": [
    "import seaborn as sns\n",
    "sns.barplot(data=SR_table, ci = 68, capsize = 0.4)\n",
    "plt.ylim([0.8,1.1])\n",
    "plt.ylabel('Sharpe Ratio')\n",
    "plt.xlabel('Model')\n",
    "plt.text(3-0.25,0.81,'Mean:\\n {:.2f}'.format(SR_table.iloc[:,3].mean()))\n",
    "plt.savefig('figures/US_sharpe_bar_plot.pdf')"
   ]
  },
  {
   "cell_type": "code",
   "execution_count": 9,
   "id": "special-handle",
   "metadata": {},
   "outputs": [
    {
     "name": "stdout",
     "output_type": "stream",
     "text": [
      "Ttest_indResult(statistic=-8.551471204079636, pvalue=1.5999804119010063e-16)\n",
      "Ttest_indResult(statistic=-2.093809976467658, pvalue=0.036772187716182604)\n",
      "Ttest_indResult(statistic=-6.362268849353243, pvalue=4.6026769861267475e-10)\n",
      "Ttest_indResult(statistic=-24.083229862719605, pvalue=4.8352130297316537e-85)\n",
      "Ttest_indResult(statistic=-5.615813065163993, pvalue=3.220069441850148e-08)\n"
     ]
    }
   ],
   "source": [
    "from scipy import stats\n",
    "for i in range(5):\n",
    "    print(stats.ttest_ind(SR_table.iloc[:,i],SR_table.iloc[:,-1], equal_var = False))"
   ]
  },
  {
   "cell_type": "code",
   "execution_count": 10,
   "id": "usual-dinner",
   "metadata": {},
   "outputs": [],
   "source": [
    "quantile_table = pd.DataFrame({legend_str_list[i]:PnL_table_list[i].quantile(0.05) for i in range(6)})"
   ]
  },
  {
   "cell_type": "code",
   "execution_count": 13,
   "id": "green-world",
   "metadata": {},
   "outputs": [
    {
     "data": {
      "image/png": "[encoded data removed]",
      "text/plain": [
       "<Figure size 576x432 with 1 Axes>"
      ]
     },
     "metadata": {
      "needs_background": "light"
     },
     "output_type": "display_data"
    }
   ],
   "source": [
    "sns.barplot(data=quantile_table, ci = 68, capsize = 0.4)\n",
    "plt.ylim([-1.55,-1.22])\n",
    "plt.ylabel('5%-Quantile of Return (%)')\n",
    "plt.xlabel('Model')\n",
    "plt.savefig('figures/US_return_quantile_bar_plot.pdf')\n",
    "#plt.ylim([-2.2,-1.7])"
   ]
  },
  {
   "cell_type": "code",
   "execution_count": null,
   "id": "measured-gazette",
   "metadata": {},
   "outputs": [],
   "source": []
  }
 ],
 "metadata": {
  "kernelspec": {
   "display_name": "Python 3",
   "language": "python",
   "name": "python3"
  },
  "language_info": {
   "codemirror_mode": {
    "name": "ipython",
    "version": 3
   },
   "file_extension": ".py",
   "mimetype": "text/x-python",
   "name": "python",
   "nbconvert_exporter": "python",
   "pygments_lexer": "ipython3",
   "version": "3.6.1"
  }
 },
 "nbformat": 4,
 "nbformat_minor": 5
}
