{
 "cells": [
  {
   "cell_type": "code",
   "execution_count": 1,
   "metadata": {},
   "outputs": [],
   "source": [
    "import tushare\n",
    "import numpy as np\n",
    "import pandas as pd\n",
    "import matplotlib.pyplot as plt\n",
    "import tqdm"
   ]
  },
  {
   "cell_type": "code",
   "execution_count": 4,
   "metadata": {},
   "outputs": [],
   "source": [
    "pro = tushare.pro_api('558af0c6fe4be3945ce1b68021e04d897fa78db639a3f354f2d4e655')\n",
    "ts_code_list = pro.stock_basic(exchange='', list_status='L', )['ts_code']\n",
    "list_date_list = pro.stock_basic(exchange='', list_status='L', fields='list_date')['list_date']"
   ]
  },
  {
   "cell_type": "code",
   "execution_count": 102,
   "metadata": {},
   "outputs": [],
   "source": [
    "# Get all the stocks trading on the Shenzhen exchange or \n",
    "# Shanghai exchange that was on the list before 2010\n",
    "SZ_code_list = ts_code_list[(ts_code_list.str.startswith('00')) & (list_date_list < '20100101')]\n",
    "SH_code_list = ts_code_list[(ts_code_list.str.startswith('60')) & (list_date_list < '20100101')]\n",
    "total_code_list = pd.concat([SZ_code_list, SH_code_list])"
   ]
  },
  {
   "cell_type": "code",
   "execution_count": 101,
   "metadata": {},
   "outputs": [],
   "source": [
    "start_date = '20100101'\n",
    "end_date = '20200101'\n",
    "\n",
    "def download_stock_data(ts_code_list):\n",
    "    for ts_code in tqdm.tqdm(ts_code_list):    \n",
    "        df = tushare.pro_bar(ts_code=ts_code, adj='qfq', start_date=start_date, end_date=end_date)\n",
    "        df.to_csv('./data/' + ts_code, mode = 'w')\n",
    "    print(\"done\")\n",
    "\n",
    "def download_stock_fundamental_data(ts_code_list):\n",
    "    for ts_code in tqdm.tqdm(ts_code_list):    \n",
    "        df = pro.daily_basic(ts_code=ts_code, start_date=start_date, end_date=end_date, \n",
    "                             fields='ts_code,trade_date,turnover_rate,volume_ratio,pe,pb,dv_ratio,total_mv')\n",
    "        df.to_csv('./data/' + ts_code + '_fundamental', mode = 'w')\n",
    "    print(\"done\")\n",
    "    \n",
    "def combine_table(ts_code_list):\n",
    "    for ts_code in tqdm.tqdm(ts_code_list):\n",
    "        price_table = pd.read_csv('./data/{}'.format(ts_code))\n",
    "        price_table['time'] = pd.to_datetime(price_table['trade_date'], format = '%Y%m%d')\n",
    "        price_table = price_table.set_index('time')\n",
    "        price_table = price_table.drop(columns = ['Unnamed: 0', 'trade_date'])\n",
    "        model_state_table =  pd.read_csv('./data/{}_fundamental'.format(ts_code))\n",
    "        model_state_table['time'] = pd.to_datetime(model_state_table['trade_date'], format = '%Y%m%d')\n",
    "        model_state_table = model_state_table.set_index('time')\n",
    "        model_state_table = model_state_table.drop(columns = ['Unnamed: 0', 'trade_date', 'ts_code'])\n",
    "        joint_table = price_table.join(model_state_table, how = 'outer').iloc[::-1]\n",
    "        joint_table.to_pickle('C:\\TUShareData\\join_table_{}.pkl'.format(ts_code))\n",
    "    print('done')\n",
    "\n",
    "def load_joint_table(ts_code):\n",
    "    return pd.read_pickle('C:\\TUShareData\\join_table_{}.pkl'.format(ts_code))"
   ]
  }
 ],
 "metadata": {
  "kernelspec": {
   "display_name": "Python 3",
   "language": "python",
   "name": "python3"
  },
  "language_info": {
   "codemirror_mode": {
    "name": "ipython",
    "version": 3
   },
   "file_extension": ".py",
   "mimetype": "text/x-python",
   "name": "python",
   "nbconvert_exporter": "python",
   "pygments_lexer": "ipython3",
   "version": "3.7.1"
  }
 },
 "nbformat": 4,
 "nbformat_minor": 4
}
