{
 "cells": [
  {
   "cell_type": "code",
   "execution_count": 1,
   "id": "fuzzy-longer",
   "metadata": {},
   "outputs": [],
   "source": [
    "%load_ext autoreload\n",
    "%autoreload 1\n",
    "%aimport utils\n",
    "%aimport utils.path\n",
    "%aimport utils.backtest\n",
    "%aimport utils.backtest_result_sherlock\n",
    "%aimport solvers\n",
    "%aimport solvers.DRconditionalmeanvariance"
   ]
  },
  {
   "cell_type": "code",
   "execution_count": 2,
   "id": "guided-failure",
   "metadata": {},
   "outputs": [],
   "source": [
    "import tushare\n",
    "import numpy as np\n",
    "import pandas as pd\n",
    "import matplotlib.pyplot as plt\n",
    "import tqdm\n",
    "import sys\n",
    "import factors"
   ]
  },
  {
   "cell_type": "code",
   "execution_count": 6,
   "id": "rapid-might",
   "metadata": {},
   "outputs": [],
   "source": [
    "exp_num = 50\n",
    "seed = 42\n",
    "DRCME_inf_params = {\n",
    "    'model_name': ['DRCMV'],\n",
    "    'exp_num':[50], \n",
    "    'sample_stock_num':[20], \n",
    "    'solver':[solvers.DRconditionalmeanvariance.DR_Winfty_conditional_mean_variance_long_only_opt_cvx_kernel], \n",
    "    'start_index':['2012'],\n",
    "    'end_index':['2014'],\n",
    "    'reg_params':[0.1], \n",
    "    'gamma_quantile':[0.1, 0.25, 0.5], \n",
    "    'rho_quantile':[0.05, 0.1, 0.25], \n",
    "}\n",
    "DRCME_2_params = {\n",
    "    'model_name': ['OTCMV'],\n",
    "    'exp_num':[50], \n",
    "    'sample_stock_num':[20], \n",
    "    'solver':[solvers.DRconditionalmeanvariance.DR_W2_conditional_mean_variance_long_only_opt_cvx_kernel_new], \n",
    "    'start_index':['2012'],\n",
    "    'end_index':['2014'],\n",
    "    'reg_params':[0.1], \n",
    "    'epsilon':[0.1,0.2,0.5], \n",
    "    'rho_div_rho_min':[1.1,1.2,1.5]\n",
    "}\n",
    "equal_weight_params = {\n",
    "    'model_name': ['EW'],\n",
    "    'exp_num':[50], \n",
    "    'sample_stock_num':[20], \n",
    "    'solver':[solvers.simple.equal_weight], \n",
    "    'start_index':['2012'],\n",
    "    'end_index':['2014'],\n",
    "}\n",
    "DR_params = {\n",
    "    'model_name': ['DRMV'],\n",
    "    'exp_num':[50], \n",
    "    'sample_stock_num':[20], \n",
    "    'solver':[solvers.DRmeanvariance.DR_mean_variance_long_only_opt_mosek_kernel_p2], \n",
    "    'reg_params':[0.1],\n",
    "    'delta': [0.1,0.2,0.5],\n",
    "    'p': [2.0],\n",
    "    'start_index':['2012'],\n",
    "    'end_index':['2014'],\n",
    "}\n",
    "mean_variance_params = {\n",
    "    'model_name': ['MV'],\n",
    "    'exp_num':[50], \n",
    "    'sample_stock_num':[20], \n",
    "    'solver':[solvers.meanvariance.mean_variance_long_only_opt_mosek_kernel], \n",
    "    'solver_name_prefix': ['vanilla_'],\n",
    "    'reg_params':[0.1], \n",
    "    'start_index':['2012'],\n",
    "    'end_index':['2014'],\n",
    "}\n",
    "conditional_mean_variance_params = {\n",
    "    'model_name': ['CMV'],\n",
    "    'exp_num':[50], \n",
    "    'sample_stock_num':[20], \n",
    "    'solver':[solvers.meanvariance.mean_variance_long_only_opt_mosek_kernel], \n",
    "    'solver_name_prefix': ['fama_french_'],\n",
    "    'reg_params':[0.1], \n",
    "    'start_index':['2012'],\n",
    "    'end_index':['2014'],\n",
    "}"
   ]
  },
  {
   "cell_type": "code",
   "execution_count": 7,
   "id": "accomplished-macro",
   "metadata": {},
   "outputs": [],
   "source": [
    "plt.rc('axes', facecolor='#dedede', edgecolor='none',\n",
    "       axisbelow=True, grid=True)\n",
    "plt.rc('grid', color='w', linestyle='solid')\n",
    "plt.rc('xtick', direction='out', color='black')\n",
    "plt.rc('ytick', direction='out', color='black')\n",
    "plt.rc('patch', edgecolor='#dedede')\n",
    "plt.rcParams['figure.figsize'] = 8,6\n",
    "plt.rcParams['font.size'] = 14\n",
    "cycle = plt.rcParams['axes.prop_cycle'].by_key()['color']"
   ]
  },
  {
   "cell_type": "code",
   "execution_count": 8,
   "id": "stretch-uzbekistan",
   "metadata": {},
   "outputs": [],
   "source": [
    "from utils.backtest_result_sherlock import read_single_solver_backtest_cross_validation_result\n",
    "CV_params_dict_list = [equal_weight_params,\n",
    "                     mean_variance_params,\n",
    "                     DR_params,\n",
    "                     conditional_mean_variance_params,\n",
    "                     DRCME_inf_params,\n",
    "                     DRCME_2_params]\n",
    "exp_num = 256; seed = 0;\n",
    "PnL_table_list = [read_single_solver_backtest_cross_validation_result(exp_num, seed, CV_params_dict)\n",
    "                      for CV_params_dict in CV_params_dict_list]\n",
    "legend_str_list = [CV_params_dict['model_name'][0] for CV_params_dict in CV_params_dict_list]"
   ]
  },
  {
   "cell_type": "code",
   "execution_count": 9,
   "id": "sought-syndicate",
   "metadata": {},
   "outputs": [],
   "source": [
    "SR_table = pd.DataFrame({legend_str_list[i]:np.sqrt(252) * PnL_table_list[i].mean() \n",
    "                         / PnL_table_list[i].std() for i in range(6)})"
   ]
  },
  {
   "cell_type": "code",
   "execution_count": 10,
   "id": "compound-pavilion",
   "metadata": {},
   "outputs": [
    {
     "data": {
      "image/png": "[encoded data removed]",
      "text/plain": [
       "<Figure size 576x432 with 1 Axes>"
      ]
     },
     "metadata": {
      "needs_background": "light"
     },
     "output_type": "display_data"
    }
   ],
   "source": [
    "import seaborn as sns\n",
    "sns.barplot(data=SR_table, ci = 68, capsize = 0.4)\n",
    "plt.ylim([1,1.25])\n",
    "plt.ylabel('Sharpe Ratio')\n",
    "plt.xlabel('Model')\n",
    "plt.savefig('figures/Chinese_sharpe_bar_plot.pdf')"
   ]
  },
  {
   "cell_type": "code",
   "execution_count": 11,
   "id": "tough-belle",
   "metadata": {},
   "outputs": [
    {
     "name": "stdout",
     "output_type": "stream",
     "text": [
      "Ttest_indResult(statistic=-7.470471920909098, pvalue=7.711935389932543e-13)\n",
      "Ttest_indResult(statistic=-2.014156173206445, pvalue=0.04451978201452556)\n",
      "Ttest_indResult(statistic=-0.8476845686648742, pvalue=0.3970222523222239)\n",
      "Ttest_indResult(statistic=-2.317461012808642, pvalue=0.02087363682917998)\n",
      "Ttest_indResult(statistic=-2.009899504066385, pvalue=0.04497074797711953)\n"
     ]
    }
   ],
   "source": [
    "from scipy import stats\n",
    "for i in range(5):\n",
    "    print(stats.ttest_ind(SR_table.iloc[:,i],SR_table.iloc[:,-1], equal_var = False))"
   ]
  },
  {
   "cell_type": "code",
   "execution_count": 12,
   "id": "similar-september",
   "metadata": {},
   "outputs": [],
   "source": [
    "quantile_table = pd.DataFrame({legend_str_list[i]:PnL_table_list[i].quantile(0.05) for i in range(6)})"
   ]
  },
  {
   "cell_type": "code",
   "execution_count": 14,
   "id": "endless-milwaukee",
   "metadata": {
    "scrolled": false
   },
   "outputs": [
    {
     "data": {
      "image/png": "[encoded data removed]",
      "text/plain": [
       "<Figure size 576x432 with 1 Axes>"
      ]
     },
     "metadata": {
      "needs_background": "light"
     },
     "output_type": "display_data"
    }
   ],
   "source": [
    "sns.barplot(data=quantile_table, ci = 68, capsize = 0.4)\n",
    "plt.ylim([-3.2,-2.8])\n",
    "plt.ylabel('5%-Quantile of Return (%)')\n",
    "plt.xlabel('Model')\n",
    "plt.text(-0.25,-3,'Mean:\\n{:.2f}'.format(quantile_table.iloc[:,0].mean()))\n",
    "plt.savefig('figures/Chinese_return_quantile_bar_plot.pdf')"
   ]
  },
  {
   "cell_type": "code",
   "execution_count": null,
   "id": "executed-latest",
   "metadata": {},
   "outputs": [],
   "source": []
  }
 ],
 "metadata": {
  "kernelspec": {
   "display_name": "Python 3",
   "language": "python",
   "name": "python3"
  },
  "language_info": {
   "codemirror_mode": {
    "name": "ipython",
    "version": 3
   },
   "file_extension": ".py",
   "mimetype": "text/x-python",
   "name": "python",
   "nbconvert_exporter": "python",
   "pygments_lexer": "ipython3",
   "version": "3.6.1"
  }
 },
 "nbformat": 4,
 "nbformat_minor": 5
}
