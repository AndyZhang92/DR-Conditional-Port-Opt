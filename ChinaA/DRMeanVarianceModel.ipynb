{
 "cells": [
  {
   "cell_type": "code",
   "execution_count": 2,
   "metadata": {},
   "outputs": [],
   "source": [
    "%load_ext autoreload\n",
    "%autoreload 1\n",
    "%aimport utils\n",
    "%aimport utils.backtest\n",
    "%aimport solvers.meanvariance\n",
    "%aimport solvers.DRmeanvariance\n",
    "%aimport solvers.rolling\n",
    "%aimport solvers.simple"
   ]
  },
  {
   "cell_type": "code",
   "execution_count": 3,
   "metadata": {},
   "outputs": [],
   "source": [
    "import tushare\n",
    "import numpy as np\n",
    "import pandas as pd\n",
    "import matplotlib.pyplot as plt\n",
    "import tqdm\n",
    "import sys"
   ]
  },
  {
   "cell_type": "markdown",
   "metadata": {},
   "source": [
    "First we consider a distributionally robust (DR) mean-variance optimization model without any capital or long-short constraint. Using the cost function $c(u,w) = \\|u-w\\|^2_q$, and define $D_c(\\mathbb{P},\\mathbb{Q})$ as the corresponding optimal transport distance. The DR optimization problem is given by:\n",
    "$$\n",
    "\\min_{\\theta}\\sup_{\\mathbb{P}:D_c(\\mathbb{P},\\mathbb{P}_0)\\leq \\delta} \\sqrt{\\theta^\\top\\rm{Cov}_{\\mathbb{P}}(R)\\theta} \n",
    "- \\lambda \\theta^\\top\\rm{E}_{\\mathbb{P}}(R)\n",
    "$$\n",
    "where $\\mathbb{P}_0$ is a reference probability measure of the random vector $R$. Applying the standard strong duality argument, we are able to derive the equivalent problem as: \n",
    "$$\n",
    "\\min_{\\theta} \\sqrt{\\theta^\\top\\rm{Cov}_{\\mathbb{P}_0}(R)\\theta} \n",
    "- \\lambda \\theta^\\top\\rm{E}_{\\mathbb{P}_0}(R)\n",
    "+ \\sqrt{1+\\lambda^2}\\cdot\\sqrt{\\delta}\\|\\theta\\|_p\n",
    "$$\n",
    "**Technical Note: $\\sqrt{\\theta^\\top\\rm{Cov}_{\\mathbb{P}_0}(R)\\theta}$ and $\\|\\theta\\|_p$ can be modelled using the power cone.**\n",
    "\n",
    "Conduct matrix decomposition such that $\\rm{Cov}_{\\mathbb{P}_0}(R) = F^\\top F$, so that $\\sqrt{\\theta^\\top\\rm{Cov}_{\\mathbb{P}_0}(R)\\theta} = \\|F\\theta\\|_2$, using\n",
    "\n",
    "    eigval, eigvecs = np.linalg.eig(cov)\n",
    "    F = np.diag(np.sqrt(eigval)) @ eigvecs.T"
   ]
  },
  {
   "cell_type": "markdown",
   "metadata": {},
   "source": [
    "The implementation of the above model can be found in **solvers.DRmeanvariance.py:**"
   ]
  },
  {
   "cell_type": "code",
   "execution_count": 4,
   "metadata": {},
   "outputs": [],
   "source": [
    "SZ_code_list = pd.read_pickle('./SZ_code_list.pkl')\n",
    "SH_code_list = pd.read_pickle('./SH_code_list.pkl')\n",
    "trading_dates = pd.read_pickle('./trading_dates.pkl')\n",
    "total_code_list = pd.concat([SZ_code_list, SH_code_list])\n",
    "total_stock_num = len(total_code_list)\n",
    "sample_stock_num = 50"
   ]
  },
  {
   "cell_type": "code",
   "execution_count": 5,
   "metadata": {},
   "outputs": [],
   "source": [
    "ts_code_generator = np.random.RandomState(42)\n",
    "sampled_ts_codes = ts_code_generator.choice(total_code_list, size = sample_stock_num, replace = False)\n",
    "sampled_mean_vec, sampled_cov_mat = utils.debughelper.get_sample_mean_cov(sampled_ts_codes, integer_id = 1000)"
   ]
  },
  {
   "cell_type": "code",
   "execution_count": 5,
   "metadata": {},
   "outputs": [
    {
     "name": "stdout",
     "output_type": "stream",
     "text": [
      "31.1 ms ± 1.76 ms per loop (mean ± std. dev. of 7 runs, 10 loops each)\n"
     ]
    }
   ],
   "source": [
    "%%timeit\n",
    "theta = solvers.DRmeanvariance.DR_mean_variance_long_only_opt_cvx_kernel(\n",
    "    sampled_cov_mat,\n",
    "    sampled_mean_vec, \n",
    "    reg_params = 1, \n",
    "    delta = 0.1, \n",
    "    p = 2\n",
    ")"
   ]
  },
  {
   "cell_type": "code",
   "execution_count": 6,
   "metadata": {},
   "outputs": [
    {
     "name": "stdout",
     "output_type": "stream",
     "text": [
      "16.3 ms ± 918 µs per loop (mean ± std. dev. of 7 runs, 100 loops each)\n"
     ]
    }
   ],
   "source": [
    "%%timeit\n",
    "theta_mosek = solvers.DRmeanvariance.DR_mean_variance_long_only_opt_mosek_kernel_p2(\n",
    "    sampled_cov_mat,\n",
    "    sampled_mean_vec, \n",
    "    reg_params = 1, \n",
    "    delta = 0.1, \n",
    "    p = 2\n",
    ")"
   ]
  },
  {
   "cell_type": "code",
   "execution_count": 6,
   "metadata": {},
   "outputs": [
    {
     "data": {
      "application/vnd.jupyter.widget-view+json": {
       "model_id": "8bc1bef2de644d118ecacdb89539261b",
       "version_major": 2,
       "version_minor": 0
      },
      "text/plain": [
       "HBox(children=(FloatProgress(value=0.0, description='exp', max=50.0, style=ProgressStyle(description_width='in…"
      ]
     },
     "metadata": {},
     "output_type": "display_data"
    },
    {
     "name": "stdout",
     "output_type": "stream",
     "text": [
      "\n"
     ]
    }
   ],
   "source": [
    "PnL_table = utils.backtest.resample_experiments(\n",
    "    exp_num = 50, \n",
    "    sample_stock_num = 20, \n",
    "    solver = solvers.DRmeanvariance.DR_mean_variance_long_only_opt_mosek_kernel_p2, \n",
    "    reg_params = 1, \n",
    "    delta = 0.5, \n",
    "    p = 2\n",
    ")"
   ]
  },
  {
   "cell_type": "code",
   "execution_count": 8,
   "metadata": {},
   "outputs": [
    {
     "data": {
      "application/vnd.jupyter.widget-view+json": {
       "model_id": "04fd3a95e597439abdb6b49a2a95909e",
       "version_major": 2,
       "version_minor": 0
      },
      "text/plain": [
       "HBox(children=(FloatProgress(value=0.0, description='exp', max=50.0, style=ProgressStyle(description_width='in…"
      ]
     },
     "metadata": {},
     "output_type": "display_data"
    },
    {
     "name": "stdout",
     "output_type": "stream",
     "text": [
      "\n"
     ]
    }
   ],
   "source": [
    "PnL_table = utils.backtest.resample_experiments(\n",
    "    exp_num = 50, \n",
    "    sample_stock_num = 20, \n",
    "    solver = solvers.simple.equal_weight, \n",
    ")"
   ]
  },
  {
   "cell_type": "code",
   "execution_count": 26,
   "metadata": {
    "scrolled": true
   },
   "outputs": [
    {
     "data": {
      "image/png": "[encoded data removed]",
      "text/plain": [
       "<Figure size 432x288 with 1 Axes>"
      ]
     },
     "metadata": {
      "needs_background": "light"
     },
     "output_type": "display_data"
    }
   ],
   "source": [
    "sharpe_func = lambda x: np.sqrt(252)*x.mean()/x.std()\n",
    "plt.hist(np.array(list(map(sharpe_func, PnL_list))))\n",
    "plt.show()"
   ]
  },
  {
   "cell_type": "code",
   "execution_count": 31,
   "metadata": {},
   "outputs": [
    {
     "data": {
      "image/png": "[encoded data removed]",
      "text/plain": [
       "<Figure size 432x288 with 1 Axes>"
      ]
     },
     "metadata": {
      "needs_background": "light"
     },
     "output_type": "display_data"
    }
   ],
   "source": [
    "sharpe_func = lambda x: np.sqrt(252)*x.mean()/x.std()\n",
    "plt.hist(np.array(list(map(sharpe_func, PnL_list))))\n",
    "plt.show()"
   ]
  },
  {
   "cell_type": "code",
   "execution_count": 42,
   "metadata": {},
   "outputs": [
    {
     "data": {
      "text/plain": [
       "<matplotlib.axes._subplots.AxesSubplot at 0x26284f59208>"
      ]
     },
     "execution_count": 42,
     "metadata": {},
     "output_type": "execute_result"
    },
    {
     "data": {
      "image/png": "[encoded data removed]",
      "text/plain": [
       "<Figure size 432x288 with 1 Axes>"
      ]
     },
     "metadata": {
      "needs_background": "light"
     },
     "output_type": "display_data"
    }
   ],
   "source": [
    "PnL_table.mean(axis = 1).cumsum().plot()"
   ]
  },
  {
   "cell_type": "code",
   "execution_count": null,
   "metadata": {},
   "outputs": [],
   "source": [
    "="
   ]
  }
 ],
 "metadata": {
  "kernelspec": {
   "display_name": "Python 3",
   "language": "python",
   "name": "python3"
  },
  "language_info": {
   "codemirror_mode": {
    "name": "ipython",
    "version": 3
   },
   "file_extension": ".py",
   "mimetype": "text/x-python",
   "name": "python",
   "nbconvert_exporter": "python",
   "pygments_lexer": "ipython3",
   "version": "3.7.1"
  }
 },
 "nbformat": 4,
 "nbformat_minor": 4
}
