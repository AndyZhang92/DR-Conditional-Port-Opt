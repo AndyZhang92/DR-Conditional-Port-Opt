{
 "cells": [
  {
   "cell_type": "markdown",
   "metadata": {},
   "source": [
    "# 1. Review: SARSA\n",
    "\n",
    "In this notebook we will apply SARSA to design a trading policy for the stock in Chinese market."
   ]
  },
  {
   "cell_type": "markdown",
   "metadata": {},
   "source": [
    "We briefly review the algorithm for SARSA:\n",
    "\n",
    "Set $\\epsilon = 1, k = 1$, Initialize $\\epsilon$-Greedy policy $\\pi_k$; \n",
    "\n",
    "$\\pi_k = \\epsilon-Greedy(Q)$;\n",
    "\n",
    "Take $a_k\\sim \\pi_k(s_k)$, Observe $(r_k, s_{k+1})$.\n",
    "\n",
    "**Begin Loop**\n",
    "\n",
    "Take $a_{k+1}\\sim \\pi_k(s_{k+1})$, Observe $(r_{k+1}, s_{k+2})$.\n",
    "\n",
    "Let $Q(s_k, a_k) = Q(s_k, a_k) + \\alpha_k(r_k + \\gamma Q(s_{k+1}, a_{k+1}) - Q(s_k, a_k)) $\n",
    "\n",
    "$k = k + 1$, $\\epsilon = 1/k$, $\\pi_k = \\epsilon-Greedy(Q)$\n",
    "\n",
    "**End Loop**"
   ]
  },
  {
   "cell_type": "markdown",
   "metadata": {},
   "source": [
    "# 2. Implementation"
   ]
  },
  {
   "cell_type": "markdown",
   "metadata": {},
   "source": [
    "## 2.1 Load Data"
   ]
  },
  {
   "cell_type": "code",
   "execution_count": 1,
   "metadata": {},
   "outputs": [],
   "source": [
    "import tushare\n",
    "import numpy as np\n",
    "import pandas as pd\n",
    "import matplotlib.pyplot as plt\n",
    "from single_stock_pi import SingleStockPI"
   ]
  },
  {
   "cell_type": "code",
   "execution_count": 2,
   "metadata": {},
   "outputs": [],
   "source": [
    "pro = tushare.pro_api()\n",
    "ts_code_list = pro.stock_basic(exchange='', list_status='L', fields='ts_code')['ts_code'][:100]\n",
    "\n",
    "def download_data(ts_code_list):\n",
    "    for ts_code in ts_code_list:\n",
    "        start_date = '20100101'\n",
    "        end_date = '20200101'\n",
    "        df = tushare.pro_bar(ts_code=ts_code, adj='qfq', start_date=start_date, end_date=end_date)\n",
    "        df.to_csv('./data/' + ts_code, mode = 'w')\n",
    "    print(\"done\")\n",
    "    \n",
    "def load_data(ts_code):\n",
    "    filepath = './data/' + ts_code\n",
    "    df = pd.read_csv(filepath)\n",
    "    return df"
   ]
  },
  {
   "cell_type": "code",
   "execution_count": 3,
   "metadata": {},
   "outputs": [],
   "source": [
    "# load data and reverse the time series\n",
    "ts_code = '000036.SZ'\n",
    "df = load_data(ts_code)\n",
    "df = df.set_index(df.index[::-1]).sort_index()"
   ]
  },
  {
   "cell_type": "markdown",
   "metadata": {},
   "source": [
    "## 2.2 Data Preprocess"
   ]
  },
  {
   "cell_type": "markdown",
   "metadata": {},
   "source": [
    "We need to design a discretization function that transforms the K-dimensional features into an interger that represents the current state $s$."
   ]
  },
  {
   "cell_type": "code",
   "execution_count": 4,
   "metadata": {},
   "outputs": [],
   "source": [
    "def compute_split_list(features, alphas_list):\n",
    "    \"\"\"\n",
    "    Function that compute the split list for discretization\n",
    "    \n",
    "    Input:\n",
    "    features: N * K numpy array, N obs, K features \n",
    "              NOTE: Here features should be data in the training set.\n",
    "              \n",
    "    alphas_list: [alphas[1], ..., alphas[K]]\n",
    "              each alphas[i] is an array of spliting quantile for the i-th feature\n",
    "    \"\"\"\n",
    "    if len(np.shape(features)) == 1:\n",
    "        features = np.matrix(features).T\n",
    "    else:\n",
    "        features = np.matrix(features)\n",
    "    assert features.shape[1] == len(alphas_list)\n",
    "    N, K = features.shape\n",
    "    splits_list = []\n",
    "    for f_id in range(K):\n",
    "        splits_list.append([-np.inf] + [np.quantile(features[:,f_id],alpha) for alpha in alphas_list[f_id]] \n",
    "                            + [np.inf])\n",
    "    return splits_list\n",
    "    \n",
    "def discretize(features, splits_list):\n",
    "    \"\"\"\n",
    "    Function that transforms the features matrix into discrete state\n",
    "    \n",
    "    Input:\n",
    "    Features: N * K numpy array, N obs, K features\n",
    "    split_list: [splits[1], ..., splits[K]]\n",
    "            each splits[i] is an array of spliting position for the i-th feature\n",
    "    \"\"\"\n",
    "    if len(np.shape(features)) == 1:\n",
    "        features = np.matrix(features).T\n",
    "    else:\n",
    "        features = np.matrix(features)\n",
    "    assert features.shape[1] == len(splits_list)\n",
    "    N, K = features.shape\n",
    "    num_group_list = np.array([len(splits) - 1 for splits in splits_list])\n",
    "    discrete_features = np.zeros_like(features, dtype = np.int)\n",
    "    for f_id in range(K):\n",
    "        discrete_features[:,f_id] = np.digitize(features[:,f_id], splits_list[f_id]) - 1\n",
    "    S = np.zeros(N)\n",
    "    if K == 1:\n",
    "        S = np.array(discrete_features[:,0]).squeeze()\n",
    "    else:\n",
    "        S = np.array(discrete_features @ np.insert(np.cumprod(num_group_list[:-1]),0,1)).squeeze()\n",
    "    return S"
   ]
  },
  {
   "cell_type": "markdown",
   "metadata": {},
   "source": [
    "Do discretization for stock data with multiple features"
   ]
  },
  {
   "cell_type": "code",
   "execution_count": 5,
   "metadata": {},
   "outputs": [
    {
     "data": {
      "text/plain": [
       "(2373, 2)"
      ]
     },
     "execution_count": 5,
     "metadata": {},
     "output_type": "execute_result"
    }
   ],
   "source": [
    "df['1_day_pct_chg'] = df['close'].pct_change(1)\n",
    "df['5_day_pct_chg'] = df['close'].pct_change(5)\n",
    "features = df[{\"1_day_pct_chg\", \"5_day_pct_chg\"}].to_numpy()[5:]\n",
    "features.shape"
   ]
  },
  {
   "cell_type": "markdown",
   "metadata": {},
   "source": [
    "Compute Split points for stock data:"
   ]
  },
  {
   "cell_type": "code",
   "execution_count": 6,
   "metadata": {},
   "outputs": [
    {
     "data": {
      "text/plain": [
       "[[-inf, -0.012894026149780025, 0.0, 0.012638792812033395, inf],\n",
       " [-inf, -0.03303390540602147, 0.0, 0.030604571891537535, inf]]"
      ]
     },
     "execution_count": 6,
     "metadata": {},
     "output_type": "execute_result"
    }
   ],
   "source": [
    "training_set_size = 2000\n",
    "features_train = features[:training_set_size,:]\n",
    "alphas_list = [[0.25,0.5,0.75],[0.25,0.5,0.75]]\n",
    "split_list = compute_split_list(features_train, alphas_list)\n",
    "split_list"
   ]
  },
  {
   "cell_type": "markdown",
   "metadata": {},
   "source": [
    "compute state id:"
   ]
  },
  {
   "cell_type": "code",
   "execution_count": 7,
   "metadata": {},
   "outputs": [],
   "source": [
    "S = discretize(features, split_list)[:-1]"
   ]
  },
  {
   "cell_type": "markdown",
   "metadata": {},
   "source": [
    "visualize the distribution of S, make sure every state has enough data."
   ]
  },
  {
   "cell_type": "code",
   "execution_count": 8,
   "metadata": {},
   "outputs": [
    {
     "data": {
      "image/png": "[encoded data removed]",
      "text/plain": [
       "<Figure size 432x288 with 1 Axes>"
      ]
     },
     "metadata": {
      "needs_background": "light"
     },
     "output_type": "display_data"
    }
   ],
   "source": [
    "plt.hist(S, bins = np.arange(-0.5,16.5,1), rwidth = 0.5)\n",
    "plt.show()"
   ]
  },
  {
   "cell_type": "markdown",
   "metadata": {},
   "source": [
    "## 2.3 Implementation of SARSA"
   ]
  },
  {
   "cell_type": "markdown",
   "metadata": {},
   "source": [
    "$S = \\{0,1,...,15\\}$, $A = \\{0(\\text{zero position}), 1(\\text{full position})\\}$"
   ]
  },
  {
   "cell_type": "code",
   "execution_count": 9,
   "metadata": {},
   "outputs": [],
   "source": [
    "numS = 16\n",
    "numA = 2\n",
    "next_log_return = np.log(1+df['pct_chg'].shift(-1)/100)[5:-1].to_numpy()\n",
    "\n",
    "def epsilon_greedy(s, epsilon, Q_SA):\n",
    "    # helper function that computes the epsilon-greedy policy\n",
    "    \n",
    "    indicator = np.random.binomial(1, epsilon)\n",
    "    a_argmax = np.argmax(Q_SA[s,:])\n",
    "    a_rand = np.random.randint(numA)\n",
    "    if indicator:\n",
    "        a = a_rand\n",
    "    else:\n",
    "        a = a_argmax    \n",
    "    return a\n",
    "    \n",
    "def SARSA(S, next_log_return, gamma):\n",
    "    # learn trading policy using Monte Carlo method\n",
    "    \n",
    "    Q_SA = np.zeros((numS, numA))\n",
    "    \n",
    "    epsilon, k, alpha = 1, 1, 1\n",
    "    s_k = S[0]\n",
    "    a_k = epsilon_greedy(s_k, epsilon, Q_SA)\n",
    "    r_k = a_k * next_log_return[0]\n",
    "    log_returns = np.array([r_k])\n",
    "    \n",
    "    while k < len(S):\n",
    "        s_kp1 = S[k]\n",
    "        a_kp1 = epsilon_greedy(s_kp1, epsilon, Q_SA)\n",
    "        r_kp1 = a_kp1 * next_log_return[k]\n",
    "        log_returns = np.append(log_returns,r_kp1)\n",
    "        \n",
    "        Q_SA[s_k, a_k] = (Q_SA[s_k, a_k] + alpha * \n",
    "                          (r_k + gamma*Q_SA[s_kp1, a_kp1] - Q_SA[s_k, a_k]))\n",
    "        \n",
    "        k = k + 1\n",
    "        alpha = 1/k\n",
    "        epsilon = min(1, 1/(0.02*k))\n",
    "        s_k, a_k, r_k = s_kp1, a_kp1, r_kp1\n",
    "        \n",
    "    return log_returns"
   ]
  },
  {
   "cell_type": "code",
   "execution_count": 10,
   "metadata": {},
   "outputs": [],
   "source": [
    "policy_log_returns = SARSA(S, next_log_return, gamma = 0.95)"
   ]
  },
  {
   "cell_type": "code",
   "execution_count": 11,
   "metadata": {},
   "outputs": [
    {
     "data": {
      "image/png": "[encoded data removed]",
      "text/plain": [
       "<Figure size 432x288 with 1 Axes>"
      ]
     },
     "metadata": {
      "needs_background": "light"
     },
     "output_type": "display_data"
    }
   ],
   "source": [
    "def plot1():\n",
    "    plt.plot(np.exp(np.cumsum(next_log_return[:200])))\n",
    "    plt.plot(np.exp(np.cumsum(policy_log_returns[:200])))\n",
    "    plt.legend([\"stock\",\"policy\"])\n",
    "    plt.xlabel('trading days')\n",
    "    plt.ylabel('normalized wealth')\n",
    "    plt.show()\n",
    "plot1()"
   ]
  },
  {
   "cell_type": "code",
   "execution_count": 12,
   "metadata": {},
   "outputs": [
    {
     "data": {
      "image/png": "[encoded data removed]",
      "text/plain": [
       "<Figure size 432x288 with 1 Axes>"
      ]
     },
     "metadata": {
      "needs_background": "light"
     },
     "output_type": "display_data"
    }
   ],
   "source": [
    "def plot2():\n",
    "    days = range(training_set_size, training_set_size + len(policy_log_returns[training_set_size:]))\n",
    "    plt.plot(days, np.exp(np.cumsum(next_log_return[training_set_size:])))\n",
    "    plt.plot(days, np.exp(np.cumsum(policy_log_returns[training_set_size:])))\n",
    "    plt.legend([\"stock\",\"policy\"])\n",
    "    plt.xlabel('trading days')\n",
    "    plt.ylabel('normalized wealth')\n",
    "    plt.show()\n",
    "plot2()"
   ]
  },
  {
   "cell_type": "code",
   "execution_count": 13,
   "metadata": {},
   "outputs": [
    {
     "data": {
      "image/png": "[encoded data removed]",
      "text/plain": [
       "<Figure size 432x288 with 1 Axes>"
      ]
     },
     "metadata": {
      "needs_background": "light"
     },
     "output_type": "display_data"
    }
   ],
   "source": [
    "def plot3():\n",
    "    plt.hist(100*(np.exp(next_log_return)-1), bins = 100, alpha = 0.7)\n",
    "    plt.hist(100*(np.exp(policy_log_returns[policy_log_returns!=0])-1), bins = 100, alpha = 0.7)\n",
    "    plt.legend([\"stock\",\"policy\"])\n",
    "    plt.xlabel('daily pct returns (%)')\n",
    "    plt.ylabel('frequency')\n",
    "    plt.title(ts_code)\n",
    "    plt.show()\n",
    "plot3()"
   ]
  },
  {
   "cell_type": "markdown",
   "metadata": {},
   "source": [
    "# 3 Test the performance of SARSA on multiple stocks"
   ]
  },
  {
   "cell_type": "code",
   "execution_count": 14,
   "metadata": {},
   "outputs": [],
   "source": [
    "stock_return_list = np.array([])\n",
    "policy_return_list = np.array([])\n",
    "for ts_code in ts_code_list:\n",
    "    if ts_code == '000029.SZ':\n",
    "        # 停牌\n",
    "        continue\n",
    "    df = load_data(ts_code)\n",
    "    df = df.set_index(df.index[::-1]).sort_index()\n",
    "    \n",
    "    df['1_day_pct_chg'] = df['close'].pct_change(1)\n",
    "    df['5_day_pct_chg'] = df['close'].pct_change(5)\n",
    "    features = df[{\"1_day_pct_chg\", \"5_day_pct_chg\"}].to_numpy()[5:]\n",
    "    \n",
    "    training_set_size = len(df) - 200\n",
    "    features_train = features[:training_set_size,:]\n",
    "    alphas_list = [[0.25,0.5,0.75],[0.25,0.5,0.75]]\n",
    "    split_list = compute_split_list(features_train, alphas_list)\n",
    "    S = discretize(features, split_list)[:-1]\n",
    "    \n",
    "    numS = 16\n",
    "    numA = 2\n",
    "    \n",
    "    next_log_return = np.log(1+df['pct_chg'].shift(-1)/100)[5:-1].to_numpy()\n",
    "    policy_log_returns = SARSA(S, next_log_return, gamma = 0.95)\n",
    "    \n",
    "    stock_return_test = np.exp(np.sum(next_log_return[training_set_size:]))\n",
    "    policy_return_test = np.exp(np.sum(policy_log_returns[training_set_size:]))\n",
    "    stock_return_list = np.append(stock_return_list,stock_return_test)\n",
    "    policy_return_list = np.append(policy_return_list,policy_return_test)"
   ]
  },
  {
   "cell_type": "code",
   "execution_count": 15,
   "metadata": {},
   "outputs": [
    {
     "data": {
      "image/png": "[encoded data removed]",
      "text/plain": [
       "<Figure size 432x288 with 1 Axes>"
      ]
     },
     "metadata": {
      "needs_background": "light"
     },
     "output_type": "display_data"
    }
   ],
   "source": [
    "plt.hist(stock_return_list, bins = 20, alpha = 0.7)\n",
    "plt.hist(policy_return_list, bins = 20, alpha = 0.7)\n",
    "plt.legend([\"stock\",\"policy\"])\n",
    "plt.xlabel('return in last 200 trading days')\n",
    "plt.ylabel('frequency')\n",
    "plt.show()"
   ]
  },
  {
   "cell_type": "markdown",
   "metadata": {},
   "source": [
    "## 3.1 Winning Rate"
   ]
  },
  {
   "cell_type": "code",
   "execution_count": 16,
   "metadata": {},
   "outputs": [
    {
     "data": {
      "text/plain": [
       "0.6262626262626263"
      ]
     },
     "execution_count": 16,
     "metadata": {},
     "output_type": "execute_result"
    }
   ],
   "source": [
    "sum(np.array(stock_return_list) < np.array(policy_return_list))/len(stock_return_list)"
   ]
  },
  {
   "cell_type": "markdown",
   "metadata": {},
   "source": [
    "## 3.2 Mean Excess Return"
   ]
  },
  {
   "cell_type": "code",
   "execution_count": 17,
   "metadata": {},
   "outputs": [
    {
     "data": {
      "text/plain": [
       "0.03773457386479303"
      ]
     },
     "execution_count": 17,
     "metadata": {},
     "output_type": "execute_result"
    }
   ],
   "source": [
    "np.mean(policy_return_list-stock_return_list)"
   ]
  },
  {
   "cell_type": "code",
   "execution_count": null,
   "metadata": {},
   "outputs": [],
   "source": []
  },
  {
   "cell_type": "code",
   "execution_count": null,
   "metadata": {},
   "outputs": [],
   "source": []
  }
 ],
 "metadata": {
  "kernelspec": {
   "display_name": "Python 3",
   "language": "python",
   "name": "python3"
  },
  "language_info": {
   "codemirror_mode": {
    "name": "ipython",
    "version": 3
   },
   "file_extension": ".py",
   "mimetype": "text/x-python",
   "name": "python",
   "nbconvert_exporter": "python",
   "pygments_lexer": "ipython3",
   "version": "3.6.8"
  }
 },
 "nbformat": 4,
 "nbformat_minor": 2
}
