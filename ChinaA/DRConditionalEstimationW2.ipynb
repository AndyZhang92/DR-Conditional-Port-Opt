{
 "cells": [
  {
   "cell_type": "code",
   "execution_count": 62,
   "metadata": {},
   "outputs": [
    {
     "name": "stdout",
     "output_type": "stream",
     "text": [
      "The autoreload extension is already loaded. To reload it, use:\n",
      "  %reload_ext autoreload\n"
     ]
    }
   ],
   "source": [
    "%load_ext autoreload\n",
    "%autoreload 1\n",
    "%aimport utils\n",
    "%aimport utils.path\n",
    "%aimport utils.backtest\n",
    "%aimport solvers\n",
    "%aimport solvers.DRconditionalmeanvariance"
   ]
  },
  {
   "cell_type": "code",
   "execution_count": 63,
   "metadata": {},
   "outputs": [],
   "source": [
    "import tushare\n",
    "import numpy as np\n",
    "import cvxpy as cp\n",
    "import pandas as pd\n",
    "import matplotlib.pyplot as plt\n",
    "import tqdm\n",
    "import sys\n",
    "import factors"
   ]
  },
  {
   "cell_type": "markdown",
   "metadata": {},
   "source": [
    "If we set $\\beta$ to be the portfolio allocation, $Y$ be the stock returns and $X$ is the covariate, then the DRO mean-variance model can be written as\n",
    "$$\n",
    "    \\min_{\\beta,\\alpha} \\sup_{\\mathbb Q \\in \\mathbb B_\\rho, \\mathbb Q(X = x_0) \\geq \\epsilon}\n",
    "    E_{\\mathbb Q} [ \\ell(Y, \\beta, \\alpha) | X = x_0]\n",
    "$$\n",
    "where the loss function $\\ell$ is\n",
    "$$\n",
    "    \\ell(y, \\beta, \\alpha) = (y^\\top \\beta - \\alpha)^2 - \\eta \\cdot y^\\top \\beta\n",
    "$$"
   ]
  },
  {
   "cell_type": "markdown",
   "metadata": {},
   "source": [
    "Suppose that $\\epsilon \\in (0, 1)$ and $\\rho > \\rho_{\\min}(x_0, \\epsilon, 0)$. We have \n",
    "$$\n",
    "f_{\\epsilon, \\rho}(\\beta,\\alpha) = \\inf_{\\substack{\\lambda_1\\in \\mathbf R_+\\\\ \\lambda_2\\in\\mathbf R}}\\left\\{\n",
    "\\rho \\lambda_1 + \\epsilon \\lambda_2 + \\frac{1}{N} \\sum_{i \\in [N]} \\left( \\sup_{y_i} \\big\\{\\epsilon^{-1} \\ell(y_i, \\beta,\\alpha) - [\\mathbb D_{\\mathcal X}(x_0, \\hat x_i) + \\mathbb D_{\\mathcal Y}(y_i, \\hat y_i)] \\lambda_1 - \\lambda_2 \\big\\} \\right)^+\n",
    "\\right\\},\n",
    "$$\n",
    "where $(a)^+ = \\max\\{0, a\\}$.\n",
    "\n",
    "Let $m_i = \\sup_{y_i} \\big\\{\\epsilon^{-1} \\ell(y_i, \\beta,\\alpha) - [\\mathbb D_{\\mathcal X}(x_0, \\hat x_i) + \\mathbb D_{\\mathcal Y}(y_i, \\hat y_i)] \\lambda_1 - \\lambda_2 \\big\\}$, then we have\n",
    "\n",
    "$$\n",
    "m_i = \\epsilon^{-1}\\cdot \n",
    "\\frac{(\\hat y_i^\\top \\beta - \\alpha-0.5\\eta)^2}{1-\\epsilon^{-1}\\|\\beta\\|^2/\\lambda_1}\n",
    "-\\frac{1}{4}\\epsilon^{-1}\\eta^2-\\epsilon^{-1}\\eta\\alpha\n",
    "-\\lambda_1\\|x_0-\\hat x_i\\|^2 -\\lambda_2\n",
    "$$\n",
    "\n",
    "Consider a reformulation:\n",
    "$$\n",
    "1-\\epsilon^{-1}\\|\\beta\\|^2/\\lambda_1 \\geq d \n",
    "\\quad \\Longleftrightarrow \\quad\n",
    "1 \\geq d + \\epsilon^{-1}\\|\\beta\\|^2/\\lambda_1\n",
    "$$\n",
    "and it follows that \n",
    "$$\n",
    "m_i \\leq \\epsilon^{-1}\\cdot \n",
    "\\frac{(\\hat y_i^\\top \\beta - \\alpha-0.5\\eta)^2}{d}\n",
    "-\\frac{1}{4}\\epsilon^{-1}\\eta^2-\\epsilon^{-1}\\eta\\alpha\n",
    "-\\lambda_1\\|x_0-\\hat x_i\\|^2 -\\lambda_2 := m_{\\uparrow,i}\n",
    "$$\n"
   ]
  },
  {
   "cell_type": "markdown",
   "metadata": {},
   "source": [
    "## Verification of the closed formed max $m_i$"
   ]
  },
  {
   "cell_type": "code",
   "execution_count": 64,
   "metadata": {},
   "outputs": [
    {
     "name": "stdout",
     "output_type": "stream",
     "text": [
      "11.3790466014257\n",
      "analytical and numerical max: 154.38010826157884 154.38010826146365\n"
     ]
    }
   ],
   "source": [
    "lambda1 = 100; lambda2 = 5; epsilon = 0.2; d = 10; eta = 2\n",
    "y_i = np.random.randn(d); beta = np.random.randn(d); alpha = 1\n",
    "analytical_max_term1 = lambda1*np.square(y_i@beta-alpha-0.5*eta)/(epsilon*lambda1-np.sum(beta**2))\n",
    "analytical_max_term2 = -0.25*eta**2/epsilon-eta*alpha/epsilon\n",
    "analytical_max = analytical_max_term1 + analytical_max_term2\n",
    "print(lambda1-np.sum(beta**2)/epsilon)\n",
    "def obj(y):\n",
    "    return (-(y@beta-alpha)**2 + eta*(y@beta))/epsilon + lambda1* np.linalg.norm(y-y_i)**2\n",
    "import scipy.optimize\n",
    "res = scipy.optimize.minimize(obj, np.ones(d),tol=1e-4)\n",
    "print('analytical and numerical max:', analytical_max, -res.fun)"
   ]
  },
  {
   "cell_type": "markdown",
   "metadata": {},
   "source": [
    "# introducing an additional parameter $t$"
   ]
  },
  {
   "cell_type": "markdown",
   "metadata": {},
   "source": [
    "Now we try to reformulate the optimization problem\n",
    "$$\\frac{\\epsilon^{-1}\\lambda_1}{\\lambda_1-\\epsilon^{-1}\\|\\beta\\|^2} \\leq\\epsilon^{-1} + t \\quad\\rm{for}\\quad t >= 0\n",
    "$$\n",
    "This implies\n",
    "$$\n",
    "\\epsilon^{-1}(\\epsilon^{-1} + t)\\|\\beta\\|^2 \\leq t \\lambda_1 \n",
    "$$\n",
    "or\n",
    "$$\n",
    "\\|\\beta\\|^2 \\leq \\frac{t}{\\epsilon^{-1}(\\epsilon^{-1} + t)} \\lambda_1 \n",
    "$$\n",
    "Given this, \n",
    "$$m_i \\leq (\\epsilon^{-1} + t)(\\hat y_i^\\top \\beta - \\alpha-0.5\\eta)^2\n",
    "-\\frac{1}{4}\\epsilon^{-1}\\eta^2-\\epsilon^{-1}\\eta\\alpha\n",
    "-\\lambda_1\\|x_0-\\hat x_i\\|^2 -\\lambda_2$$ \n",
    "$$s.t.\\|\\beta\\|^2 \\leq \\frac{t}{\\epsilon^{-1}(\\epsilon^{-1} + t)} \\lambda_1 $$\n",
    "\n",
    "Therefore, we may solve the optimization problem parameterized by $t$\n",
    "$$\n",
    "f_{\\epsilon, \\rho}(t) =\\inf_{\\substack{\\alpha,\\beta}} \\inf_{\\substack{\\lambda_1\\in \\mathbf R_+\\\\ \\lambda_2\\in\\mathbf R}}\\left\\{\n",
    "\\rho \\lambda_1 + \\epsilon \\lambda_2 + \\frac{1}{N} \\sum_{i \\in [N]} \\left((\\epsilon^{-1} + t)(\\hat y_i^\\top \\beta - \\alpha-0.5\\eta)^2\n",
    "-\\frac{1}{4}\\epsilon^{-1}\\eta^2-\\epsilon^{-1}\\eta\\alpha\n",
    "-\\lambda_1\\|x_0-\\hat x_i\\|^2 -\\lambda_2\\right)^+\n",
    "\\right\\},\n",
    "$$\n",
    "$$s.t.\\|\\beta\\|^2 \\leq \\frac{t}{\\epsilon^{-1}(\\epsilon^{-1} + t)} \\lambda_1 $$"
   ]
  },
  {
   "cell_type": "code",
   "execution_count": 65,
   "metadata": {},
   "outputs": [],
   "source": [
    "sample_stock_num = 20\n",
    "SZ_code_list = pd.read_pickle('./SZ_code_list.pkl')\n",
    "SH_code_list = pd.read_pickle('./SH_code_list.pkl')\n",
    "trading_dates = pd.read_pickle('./trading_dates.pkl')\n",
    "total_code_list = pd.concat([SZ_code_list, SH_code_list])\n",
    "total_stock_num = len(total_code_list)\n",
    "ts_code_generator = np.random.RandomState(42)\n",
    "sampled_ts_codes = ts_code_generator.choice(total_code_list, size = sample_stock_num, replace = False)\n",
    "sampled_mean_vec, sampled_cov_mat = utils.debughelper.get_sample_mean_cov(sampled_ts_codes, integer_id = 1000)\n",
    "info_list = ['pct_chg']\n",
    "portfolio = utils.preprocess.gen_portfolio_data_table(ts_code_generator, info_list, sample_stock_num)\n",
    "training_ids = np.where((portfolio['pct_chg'].index >= '2012') & (portfolio['pct_chg'].index < '2017'))[0]\n",
    "factors_df = utils.datareader.load_fama_french_factors(normalized = True)"
   ]
  },
  {
   "cell_type": "code",
   "execution_count": 66,
   "metadata": {},
   "outputs": [],
   "source": [
    "X_mat = factors_df['2012':'2013'].values\n",
    "X0 = factors_df['2014'].iloc[0].values\n",
    "Y_mat = portfolio['pct_chg']['2012':'2013'].values\n",
    "X_dist = np.linalg.norm(X_mat - X0, axis = 1)"
   ]
  },
  {
   "cell_type": "code",
   "execution_count": 67,
   "metadata": {},
   "outputs": [],
   "source": [
    "eta = 1; epsilon = 0.5; epsilon_inv = 1/epsilon;\n",
    "rho = 1\n",
    "t = 5; N = Y_mat.shape[0]\n",
    "c1 = cp.Parameter(nonneg = True)\n",
    "c2 = cp.Parameter(nonneg = True)\n",
    "beta = cp.Variable(sample_stock_num)\n",
    "alpha = cp.Variable(1)\n",
    "lambda1 = cp.Variable(1, nonneg = True)\n",
    "lambda2 = cp.Variable(1)\n",
    "obj = lambda1*rho+lambda2*epsilon + cp.sum(cp.pos(c1*(Y_mat@beta-alpha-0.5*eta)**2 \n",
    "                                                - 0.25*epsilon_inv*eta**2 \n",
    "                                                - epsilon_inv*eta*alpha \n",
    "                                                - lambda1*X_dist - lambda2)) / N\n",
    "constraints = [cp.sum_squares(beta) <= c2*lambda1,\n",
    "              beta >= 0,\n",
    "              cp.sum(beta) == 1]\n",
    "prob = cp.Problem(cp.Minimize(obj), constraints)"
   ]
  },
  {
   "cell_type": "code",
   "execution_count": 68,
   "metadata": {},
   "outputs": [],
   "source": [
    "def obj_val(t):\n",
    "    c1.value = epsilon_inv + t\n",
    "    c2.value = t/(epsilon_inv*(epsilon_inv+t))\n",
    "    return prob.solve()"
   ]
  },
  {
   "cell_type": "markdown",
   "metadata": {},
   "source": [
    "**Take a look at the dependence of the optimal value on t**"
   ]
  },
  {
   "cell_type": "code",
   "execution_count": 69,
   "metadata": {},
   "outputs": [
    {
     "data": {
      "image/png": "[encoded data removed]",
      "text/plain": [
       "<Figure size 864x576 with 1 Axes>"
      ]
     },
     "metadata": {
      "needs_background": "light"
     },
     "output_type": "display_data"
    }
   ],
   "source": [
    "t_array = np.logspace(start=-3,stop=3,num=20,endpoint=True)\n",
    "optval_array = np.zeros_like(t_array)\n",
    "for i, t in enumerate(t_array):\n",
    "    optval_array[i] = obj_val(t)\n",
    "plt.loglog(t_array, optval_array)\n",
    "plt.xlabel('t');plt.ylabel('opt_val')\n",
    "plt.show()"
   ]
  },
  {
   "cell_type": "markdown",
   "metadata": {},
   "source": [
    "**functions for solving a single DR conditional estimation problem with type-2 Wasserstain transport**"
   ]
  },
  {
   "cell_type": "code",
   "execution_count": 95,
   "metadata": {},
   "outputs": [
    {
     "name": "stdout",
     "output_type": "stream",
     "text": [
      "2.22 s ± 37.5 ms per loop (mean ± std. dev. of 7 runs, 1 loop each)\n"
     ]
    }
   ],
   "source": [
    "%%timeit\n",
    "solvers.DRconditionalmeanvariance.DR_W2_conditional_mean_variance_long_only_opt_cvx_kernel(\n",
    "    X_mat, Y_mat, X0, reg_params = 1, epsilon = 0.2, rho_div_rho_min = 1.1\n",
    ")"
   ]
  },
  {
   "cell_type": "code",
   "execution_count": 96,
   "metadata": {},
   "outputs": [
    {
     "name": "stdout",
     "output_type": "stream",
     "text": [
      "1.41 s ± 30.3 ms per loop (mean ± std. dev. of 7 runs, 1 loop each)\n"
     ]
    }
   ],
   "source": [
    "%%timeit\n",
    "solvers.DRconditionalmeanvariance.DR_W2_conditional_mean_variance_long_only_opt_cvx_kernel_new(\n",
    "    X_mat, Y_mat, X0, reg_params = 1, epsilon = 0.2, rho_div_rho_min = 1.1\n",
    ")"
   ]
  },
  {
   "cell_type": "code",
   "execution_count": 12,
   "metadata": {},
   "outputs": [
    {
     "data": {
      "application/vnd.jupyter.widget-view+json": {
       "model_id": "886c3f5863a24e2a85729df60ee0059b",
       "version_major": 2,
       "version_minor": 0
      },
      "text/plain": [
       "HBox(children=(FloatProgress(value=0.0, description='exp', max=50.0, style=ProgressStyle(description_width='in…"
      ]
     },
     "metadata": {},
     "output_type": "display_data"
    },
    {
     "data": {
      "application/vnd.jupyter.widget-view+json": {
       "model_id": "",
       "version_major": 2,
       "version_minor": 0
      },
      "text/plain": [
       "HBox(children=(FloatProgress(value=0.0, description='time', max=1202.0, style=ProgressStyle(description_width=…"
      ]
     },
     "metadata": {},
     "output_type": "display_data"
    },
    {
     "data": {
      "application/vnd.jupyter.widget-view+json": {
       "model_id": "",
       "version_major": 2,
       "version_minor": 0
      },
      "text/plain": [
       "HBox(children=(FloatProgress(value=0.0, description='time', max=1202.0, style=ProgressStyle(description_width=…"
      ]
     },
     "metadata": {},
     "output_type": "display_data"
    },
    {
     "data": {
      "application/vnd.jupyter.widget-view+json": {
       "model_id": "",
       "version_major": 2,
       "version_minor": 0
      },
      "text/plain": [
       "HBox(children=(FloatProgress(value=0.0, description='time', max=1202.0, style=ProgressStyle(description_width=…"
      ]
     },
     "metadata": {},
     "output_type": "display_data"
    },
    {
     "data": {
      "application/vnd.jupyter.widget-view+json": {
       "model_id": "",
       "version_major": 2,
       "version_minor": 0
      },
      "text/plain": [
       "HBox(children=(FloatProgress(value=0.0, description='time', max=1202.0, style=ProgressStyle(description_width=…"
      ]
     },
     "metadata": {},
     "output_type": "display_data"
    },
    {
     "data": {
      "application/vnd.jupyter.widget-view+json": {
       "model_id": "",
       "version_major": 2,
       "version_minor": 0
      },
      "text/plain": [
       "HBox(children=(FloatProgress(value=0.0, description='time', max=1202.0, style=ProgressStyle(description_width=…"
      ]
     },
     "metadata": {},
     "output_type": "display_data"
    },
    {
     "data": {
      "application/vnd.jupyter.widget-view+json": {
       "model_id": "",
       "version_major": 2,
       "version_minor": 0
      },
      "text/plain": [
       "HBox(children=(FloatProgress(value=0.0, description='time', max=1202.0, style=ProgressStyle(description_width=…"
      ]
     },
     "metadata": {},
     "output_type": "display_data"
    },
    {
     "data": {
      "application/vnd.jupyter.widget-view+json": {
       "model_id": "",
       "version_major": 2,
       "version_minor": 0
      },
      "text/plain": [
       "HBox(children=(FloatProgress(value=0.0, description='time', max=1202.0, style=ProgressStyle(description_width=…"
      ]
     },
     "metadata": {},
     "output_type": "display_data"
    },
    {
     "data": {
      "application/vnd.jupyter.widget-view+json": {
       "model_id": "",
       "version_major": 2,
       "version_minor": 0
      },
      "text/plain": [
       "HBox(children=(FloatProgress(value=0.0, description='time', max=1202.0, style=ProgressStyle(description_width=…"
      ]
     },
     "metadata": {},
     "output_type": "display_data"
    },
    {
     "data": {
      "application/vnd.jupyter.widget-view+json": {
       "model_id": "",
       "version_major": 2,
       "version_minor": 0
      },
      "text/plain": [
       "HBox(children=(FloatProgress(value=0.0, description='time', max=1202.0, style=ProgressStyle(description_width=…"
      ]
     },
     "metadata": {},
     "output_type": "display_data"
    },
    {
     "data": {
      "application/vnd.jupyter.widget-view+json": {
       "model_id": "",
       "version_major": 2,
       "version_minor": 0
      },
      "text/plain": [
       "HBox(children=(FloatProgress(value=0.0, description='time', max=1202.0, style=ProgressStyle(description_width=…"
      ]
     },
     "metadata": {},
     "output_type": "display_data"
    },
    {
     "data": {
      "application/vnd.jupyter.widget-view+json": {
       "model_id": "",
       "version_major": 2,
       "version_minor": 0
      },
      "text/plain": [
       "HBox(children=(FloatProgress(value=0.0, description='time', max=1202.0, style=ProgressStyle(description_width=…"
      ]
     },
     "metadata": {},
     "output_type": "display_data"
    },
    {
     "data": {
      "application/vnd.jupyter.widget-view+json": {
       "model_id": "",
       "version_major": 2,
       "version_minor": 0
      },
      "text/plain": [
       "HBox(children=(FloatProgress(value=0.0, description='time', max=1202.0, style=ProgressStyle(description_width=…"
      ]
     },
     "metadata": {},
     "output_type": "display_data"
    },
    {
     "data": {
      "application/vnd.jupyter.widget-view+json": {
       "model_id": "",
       "version_major": 2,
       "version_minor": 0
      },
      "text/plain": [
       "HBox(children=(FloatProgress(value=0.0, description='time', max=1202.0, style=ProgressStyle(description_width=…"
      ]
     },
     "metadata": {},
     "output_type": "display_data"
    },
    {
     "data": {
      "application/vnd.jupyter.widget-view+json": {
       "model_id": "",
       "version_major": 2,
       "version_minor": 0
      },
      "text/plain": [
       "HBox(children=(FloatProgress(value=0.0, description='time', max=1202.0, style=ProgressStyle(description_width=…"
      ]
     },
     "metadata": {},
     "output_type": "display_data"
    },
    {
     "data": {
      "application/vnd.jupyter.widget-view+json": {
       "model_id": "",
       "version_major": 2,
       "version_minor": 0
      },
      "text/plain": [
       "HBox(children=(FloatProgress(value=0.0, description='time', max=1202.0, style=ProgressStyle(description_width=…"
      ]
     },
     "metadata": {},
     "output_type": "display_data"
    },
    {
     "data": {
      "application/vnd.jupyter.widget-view+json": {
       "model_id": "",
       "version_major": 2,
       "version_minor": 0
      },
      "text/plain": [
       "HBox(children=(FloatProgress(value=0.0, description='time', max=1202.0, style=ProgressStyle(description_width=…"
      ]
     },
     "metadata": {},
     "output_type": "display_data"
    },
    {
     "data": {
      "application/vnd.jupyter.widget-view+json": {
       "model_id": "",
       "version_major": 2,
       "version_minor": 0
      },
      "text/plain": [
       "HBox(children=(FloatProgress(value=0.0, description='time', max=1202.0, style=ProgressStyle(description_width=…"
      ]
     },
     "metadata": {},
     "output_type": "display_data"
    },
    {
     "data": {
      "application/vnd.jupyter.widget-view+json": {
       "model_id": "",
       "version_major": 2,
       "version_minor": 0
      },
      "text/plain": [
       "HBox(children=(FloatProgress(value=0.0, description='time', max=1202.0, style=ProgressStyle(description_width=…"
      ]
     },
     "metadata": {},
     "output_type": "display_data"
    },
    {
     "data": {
      "application/vnd.jupyter.widget-view+json": {
       "model_id": "",
       "version_major": 2,
       "version_minor": 0
      },
      "text/plain": [
       "HBox(children=(FloatProgress(value=0.0, description='time', max=1202.0, style=ProgressStyle(description_width=…"
      ]
     },
     "metadata": {},
     "output_type": "display_data"
    },
    {
     "data": {
      "application/vnd.jupyter.widget-view+json": {
       "model_id": "",
       "version_major": 2,
       "version_minor": 0
      },
      "text/plain": [
       "HBox(children=(FloatProgress(value=0.0, description='time', max=1202.0, style=ProgressStyle(description_width=…"
      ]
     },
     "metadata": {},
     "output_type": "display_data"
    },
    {
     "data": {
      "application/vnd.jupyter.widget-view+json": {
       "model_id": "",
       "version_major": 2,
       "version_minor": 0
      },
      "text/plain": [
       "HBox(children=(FloatProgress(value=0.0, description='time', max=1202.0, style=ProgressStyle(description_width=…"
      ]
     },
     "metadata": {},
     "output_type": "display_data"
    },
    {
     "data": {
      "application/vnd.jupyter.widget-view+json": {
       "model_id": "",
       "version_major": 2,
       "version_minor": 0
      },
      "text/plain": [
       "HBox(children=(FloatProgress(value=0.0, description='time', max=1202.0, style=ProgressStyle(description_width=…"
      ]
     },
     "metadata": {},
     "output_type": "display_data"
    },
    {
     "data": {
      "application/vnd.jupyter.widget-view+json": {
       "model_id": "",
       "version_major": 2,
       "version_minor": 0
      },
      "text/plain": [
       "HBox(children=(FloatProgress(value=0.0, description='time', max=1202.0, style=ProgressStyle(description_width=…"
      ]
     },
     "metadata": {},
     "output_type": "display_data"
    },
    {
     "data": {
      "application/vnd.jupyter.widget-view+json": {
       "model_id": "",
       "version_major": 2,
       "version_minor": 0
      },
      "text/plain": [
       "HBox(children=(FloatProgress(value=0.0, description='time', max=1202.0, style=ProgressStyle(description_width=…"
      ]
     },
     "metadata": {},
     "output_type": "display_data"
    },
    {
     "data": {
      "application/vnd.jupyter.widget-view+json": {
       "model_id": "",
       "version_major": 2,
       "version_minor": 0
      },
      "text/plain": [
       "HBox(children=(FloatProgress(value=0.0, description='time', max=1202.0, style=ProgressStyle(description_width=…"
      ]
     },
     "metadata": {},
     "output_type": "display_data"
    },
    {
     "data": {
      "application/vnd.jupyter.widget-view+json": {
       "model_id": "",
       "version_major": 2,
       "version_minor": 0
      },
      "text/plain": [
       "HBox(children=(FloatProgress(value=0.0, description='time', max=1202.0, style=ProgressStyle(description_width=…"
      ]
     },
     "metadata": {},
     "output_type": "display_data"
    },
    {
     "data": {
      "application/vnd.jupyter.widget-view+json": {
       "model_id": "",
       "version_major": 2,
       "version_minor": 0
      },
      "text/plain": [
       "HBox(children=(FloatProgress(value=0.0, description='time', max=1202.0, style=ProgressStyle(description_width=…"
      ]
     },
     "metadata": {},
     "output_type": "display_data"
    },
    {
     "data": {
      "application/vnd.jupyter.widget-view+json": {
       "model_id": "",
       "version_major": 2,
       "version_minor": 0
      },
      "text/plain": [
       "HBox(children=(FloatProgress(value=0.0, description='time', max=1202.0, style=ProgressStyle(description_width=…"
      ]
     },
     "metadata": {},
     "output_type": "display_data"
    },
    {
     "data": {
      "application/vnd.jupyter.widget-view+json": {
       "model_id": "",
       "version_major": 2,
       "version_minor": 0
      },
      "text/plain": [
       "HBox(children=(FloatProgress(value=0.0, description='time', max=1202.0, style=ProgressStyle(description_width=…"
      ]
     },
     "metadata": {},
     "output_type": "display_data"
    },
    {
     "data": {
      "application/vnd.jupyter.widget-view+json": {
       "model_id": "",
       "version_major": 2,
       "version_minor": 0
      },
      "text/plain": [
       "HBox(children=(FloatProgress(value=0.0, description='time', max=1202.0, style=ProgressStyle(description_width=…"
      ]
     },
     "metadata": {},
     "output_type": "display_data"
    },
    {
     "data": {
      "application/vnd.jupyter.widget-view+json": {
       "model_id": "",
       "version_major": 2,
       "version_minor": 0
      },
      "text/plain": [
       "HBox(children=(FloatProgress(value=0.0, description='time', max=1202.0, style=ProgressStyle(description_width=…"
      ]
     },
     "metadata": {},
     "output_type": "display_data"
    },
    {
     "data": {
      "application/vnd.jupyter.widget-view+json": {
       "model_id": "",
       "version_major": 2,
       "version_minor": 0
      },
      "text/plain": [
       "HBox(children=(FloatProgress(value=0.0, description='time', max=1202.0, style=ProgressStyle(description_width=…"
      ]
     },
     "metadata": {},
     "output_type": "display_data"
    },
    {
     "data": {
      "application/vnd.jupyter.widget-view+json": {
       "model_id": "",
       "version_major": 2,
       "version_minor": 0
      },
      "text/plain": [
       "HBox(children=(FloatProgress(value=0.0, description='time', max=1202.0, style=ProgressStyle(description_width=…"
      ]
     },
     "metadata": {},
     "output_type": "display_data"
    },
    {
     "data": {
      "application/vnd.jupyter.widget-view+json": {
       "model_id": "",
       "version_major": 2,
       "version_minor": 0
      },
      "text/plain": [
       "HBox(children=(FloatProgress(value=0.0, description='time', max=1202.0, style=ProgressStyle(description_width=…"
      ]
     },
     "metadata": {},
     "output_type": "display_data"
    },
    {
     "data": {
      "application/vnd.jupyter.widget-view+json": {
       "model_id": "",
       "version_major": 2,
       "version_minor": 0
      },
      "text/plain": [
       "HBox(children=(FloatProgress(value=0.0, description='time', max=1202.0, style=ProgressStyle(description_width=…"
      ]
     },
     "metadata": {},
     "output_type": "display_data"
    },
    {
     "data": {
      "application/vnd.jupyter.widget-view+json": {
       "model_id": "",
       "version_major": 2,
       "version_minor": 0
      },
      "text/plain": [
       "HBox(children=(FloatProgress(value=0.0, description='time', max=1202.0, style=ProgressStyle(description_width=…"
      ]
     },
     "metadata": {},
     "output_type": "display_data"
    },
    {
     "data": {
      "application/vnd.jupyter.widget-view+json": {
       "model_id": "",
       "version_major": 2,
       "version_minor": 0
      },
      "text/plain": [
       "HBox(children=(FloatProgress(value=0.0, description='time', max=1202.0, style=ProgressStyle(description_width=…"
      ]
     },
     "metadata": {},
     "output_type": "display_data"
    },
    {
     "data": {
      "application/vnd.jupyter.widget-view+json": {
       "model_id": "",
       "version_major": 2,
       "version_minor": 0
      },
      "text/plain": [
       "HBox(children=(FloatProgress(value=0.0, description='time', max=1202.0, style=ProgressStyle(description_width=…"
      ]
     },
     "metadata": {},
     "output_type": "display_data"
    },
    {
     "data": {
      "application/vnd.jupyter.widget-view+json": {
       "model_id": "",
       "version_major": 2,
       "version_minor": 0
      },
      "text/plain": [
       "HBox(children=(FloatProgress(value=0.0, description='time', max=1202.0, style=ProgressStyle(description_width=…"
      ]
     },
     "metadata": {},
     "output_type": "display_data"
    },
    {
     "data": {
      "application/vnd.jupyter.widget-view+json": {
       "model_id": "",
       "version_major": 2,
       "version_minor": 0
      },
      "text/plain": [
       "HBox(children=(FloatProgress(value=0.0, description='time', max=1202.0, style=ProgressStyle(description_width=…"
      ]
     },
     "metadata": {},
     "output_type": "display_data"
    },
    {
     "data": {
      "application/vnd.jupyter.widget-view+json": {
       "model_id": "",
       "version_major": 2,
       "version_minor": 0
      },
      "text/plain": [
       "HBox(children=(FloatProgress(value=0.0, description='time', max=1202.0, style=ProgressStyle(description_width=…"
      ]
     },
     "metadata": {},
     "output_type": "display_data"
    },
    {
     "data": {
      "application/vnd.jupyter.widget-view+json": {
       "model_id": "",
       "version_major": 2,
       "version_minor": 0
      },
      "text/plain": [
       "HBox(children=(FloatProgress(value=0.0, description='time', max=1202.0, style=ProgressStyle(description_width=…"
      ]
     },
     "metadata": {},
     "output_type": "display_data"
    },
    {
     "data": {
      "application/vnd.jupyter.widget-view+json": {
       "model_id": "",
       "version_major": 2,
       "version_minor": 0
      },
      "text/plain": [
       "HBox(children=(FloatProgress(value=0.0, description='time', max=1202.0, style=ProgressStyle(description_width=…"
      ]
     },
     "metadata": {},
     "output_type": "display_data"
    },
    {
     "data": {
      "application/vnd.jupyter.widget-view+json": {
       "model_id": "",
       "version_major": 2,
       "version_minor": 0
      },
      "text/plain": [
       "HBox(children=(FloatProgress(value=0.0, description='time', max=1202.0, style=ProgressStyle(description_width=…"
      ]
     },
     "metadata": {},
     "output_type": "display_data"
    },
    {
     "data": {
      "application/vnd.jupyter.widget-view+json": {
       "model_id": "",
       "version_major": 2,
       "version_minor": 0
      },
      "text/plain": [
       "HBox(children=(FloatProgress(value=0.0, description='time', max=1202.0, style=ProgressStyle(description_width=…"
      ]
     },
     "metadata": {},
     "output_type": "display_data"
    },
    {
     "data": {
      "application/vnd.jupyter.widget-view+json": {
       "model_id": "",
       "version_major": 2,
       "version_minor": 0
      },
      "text/plain": [
       "HBox(children=(FloatProgress(value=0.0, description='time', max=1202.0, style=ProgressStyle(description_width=…"
      ]
     },
     "metadata": {},
     "output_type": "display_data"
    },
    {
     "data": {
      "application/vnd.jupyter.widget-view+json": {
       "model_id": "",
       "version_major": 2,
       "version_minor": 0
      },
      "text/plain": [
       "HBox(children=(FloatProgress(value=0.0, description='time', max=1202.0, style=ProgressStyle(description_width=…"
      ]
     },
     "metadata": {},
     "output_type": "display_data"
    },
    {
     "data": {
      "application/vnd.jupyter.widget-view+json": {
       "model_id": "",
       "version_major": 2,
       "version_minor": 0
      },
      "text/plain": [
       "HBox(children=(FloatProgress(value=0.0, description='time', max=1202.0, style=ProgressStyle(description_width=…"
      ]
     },
     "metadata": {},
     "output_type": "display_data"
    },
    {
     "data": {
      "application/vnd.jupyter.widget-view+json": {
       "model_id": "",
       "version_major": 2,
       "version_minor": 0
      },
      "text/plain": [
       "HBox(children=(FloatProgress(value=0.0, description='time', max=1202.0, style=ProgressStyle(description_width=…"
      ]
     },
     "metadata": {},
     "output_type": "display_data"
    },
    {
     "data": {
      "application/vnd.jupyter.widget-view+json": {
       "model_id": "",
       "version_major": 2,
       "version_minor": 0
      },
      "text/plain": [
       "HBox(children=(FloatProgress(value=0.0, description='time', max=1202.0, style=ProgressStyle(description_width=…"
      ]
     },
     "metadata": {},
     "output_type": "display_data"
    },
    {
     "name": "stdout",
     "output_type": "stream",
     "text": [
      "\n"
     ]
    },
    {
     "data": {
      "text/html": [
       "<div>\n",
       "<style scoped>\n",
       "    .dataframe tbody tr th:only-of-type {\n",
       "        vertical-align: middle;\n",
       "    }\n",
       "\n",
       "    .dataframe tbody tr th {\n",
       "        vertical-align: top;\n",
       "    }\n",
       "\n",
       "    .dataframe thead th {\n",
       "        text-align: right;\n",
       "    }\n",
       "</style>\n",
       "<table border=\"1\" class=\"dataframe\">\n",
       "  <thead>\n",
       "    <tr style=\"text-align: right;\">\n",
       "      <th></th>\n",
       "      <th>0</th>\n",
       "      <th>1</th>\n",
       "      <th>2</th>\n",
       "      <th>3</th>\n",
       "      <th>4</th>\n",
       "      <th>5</th>\n",
       "      <th>6</th>\n",
       "      <th>7</th>\n",
       "      <th>8</th>\n",
       "      <th>9</th>\n",
       "      <th>...</th>\n",
       "      <th>40</th>\n",
       "      <th>41</th>\n",
       "      <th>42</th>\n",
       "      <th>43</th>\n",
       "      <th>44</th>\n",
       "      <th>45</th>\n",
       "      <th>46</th>\n",
       "      <th>47</th>\n",
       "      <th>48</th>\n",
       "      <th>49</th>\n",
       "    </tr>\n",
       "    <tr>\n",
       "      <th>time</th>\n",
       "      <th></th>\n",
       "      <th></th>\n",
       "      <th></th>\n",
       "      <th></th>\n",
       "      <th></th>\n",
       "      <th></th>\n",
       "      <th></th>\n",
       "      <th></th>\n",
       "      <th></th>\n",
       "      <th></th>\n",
       "      <th></th>\n",
       "      <th></th>\n",
       "      <th></th>\n",
       "      <th></th>\n",
       "      <th></th>\n",
       "      <th></th>\n",
       "      <th></th>\n",
       "      <th></th>\n",
       "      <th></th>\n",
       "      <th></th>\n",
       "      <th></th>\n",
       "    </tr>\n",
       "  </thead>\n",
       "  <tbody>\n",
       "    <tr>\n",
       "      <th>2012-01-04</th>\n",
       "      <td>-0.032098</td>\n",
       "      <td>-0.079362</td>\n",
       "      <td>-2.581187</td>\n",
       "      <td>-1.669733</td>\n",
       "      <td>0.715064</td>\n",
       "      <td>-1.899398</td>\n",
       "      <td>-2.284129</td>\n",
       "      <td>-1.283361</td>\n",
       "      <td>-0.749351</td>\n",
       "      <td>-2.792490</td>\n",
       "      <td>...</td>\n",
       "      <td>-3.675813</td>\n",
       "      <td>-2.206464</td>\n",
       "      <td>-3.611726</td>\n",
       "      <td>-1.710423</td>\n",
       "      <td>-1.731054</td>\n",
       "      <td>-2.888286</td>\n",
       "      <td>-1.682429</td>\n",
       "      <td>-1.844127</td>\n",
       "      <td>0.003359</td>\n",
       "      <td>-3.045890</td>\n",
       "    </tr>\n",
       "    <tr>\n",
       "      <th>2012-01-05</th>\n",
       "      <td>0.002221</td>\n",
       "      <td>0.000879</td>\n",
       "      <td>1.652383</td>\n",
       "      <td>-1.661587</td>\n",
       "      <td>0.201559</td>\n",
       "      <td>0.042201</td>\n",
       "      <td>-0.413659</td>\n",
       "      <td>0.419744</td>\n",
       "      <td>0.759148</td>\n",
       "      <td>0.293374</td>\n",
       "      <td>...</td>\n",
       "      <td>0.321707</td>\n",
       "      <td>0.155930</td>\n",
       "      <td>1.089889</td>\n",
       "      <td>0.047030</td>\n",
       "      <td>1.183222</td>\n",
       "      <td>0.320307</td>\n",
       "      <td>0.705482</td>\n",
       "      <td>-0.489973</td>\n",
       "      <td>0.000008</td>\n",
       "      <td>0.044368</td>\n",
       "    </tr>\n",
       "    <tr>\n",
       "      <th>2012-01-06</th>\n",
       "      <td>0.120663</td>\n",
       "      <td>0.115396</td>\n",
       "      <td>3.797229</td>\n",
       "      <td>1.872265</td>\n",
       "      <td>1.451950</td>\n",
       "      <td>2.550507</td>\n",
       "      <td>4.488546</td>\n",
       "      <td>1.159635</td>\n",
       "      <td>3.095955</td>\n",
       "      <td>1.686151</td>\n",
       "      <td>...</td>\n",
       "      <td>3.187879</td>\n",
       "      <td>2.009757</td>\n",
       "      <td>4.261969</td>\n",
       "      <td>2.885819</td>\n",
       "      <td>2.025798</td>\n",
       "      <td>3.400562</td>\n",
       "      <td>3.893559</td>\n",
       "      <td>0.675061</td>\n",
       "      <td>0.096992</td>\n",
       "      <td>2.870962</td>\n",
       "    </tr>\n",
       "    <tr>\n",
       "      <th>2012-01-09</th>\n",
       "      <td>0.121831</td>\n",
       "      <td>0.129178</td>\n",
       "      <td>0.777698</td>\n",
       "      <td>2.083689</td>\n",
       "      <td>0.800062</td>\n",
       "      <td>1.453227</td>\n",
       "      <td>1.637506</td>\n",
       "      <td>0.100732</td>\n",
       "      <td>0.869779</td>\n",
       "      <td>0.905483</td>\n",
       "      <td>...</td>\n",
       "      <td>0.708306</td>\n",
       "      <td>1.227970</td>\n",
       "      <td>1.334541</td>\n",
       "      <td>2.076389</td>\n",
       "      <td>1.197658</td>\n",
       "      <td>0.608943</td>\n",
       "      <td>0.998329</td>\n",
       "      <td>1.007285</td>\n",
       "      <td>-0.016922</td>\n",
       "      <td>2.139209</td>\n",
       "    </tr>\n",
       "    <tr>\n",
       "      <th>2012-01-20</th>\n",
       "      <td>-0.049930</td>\n",
       "      <td>-0.012829</td>\n",
       "      <td>-0.174291</td>\n",
       "      <td>-0.409359</td>\n",
       "      <td>-0.738610</td>\n",
       "      <td>-0.616187</td>\n",
       "      <td>0.452191</td>\n",
       "      <td>-0.384565</td>\n",
       "      <td>-0.368371</td>\n",
       "      <td>-0.249831</td>\n",
       "      <td>...</td>\n",
       "      <td>-0.432987</td>\n",
       "      <td>-1.028427</td>\n",
       "      <td>0.206277</td>\n",
       "      <td>0.165140</td>\n",
       "      <td>-0.591178</td>\n",
       "      <td>-0.674168</td>\n",
       "      <td>-0.129555</td>\n",
       "      <td>0.105183</td>\n",
       "      <td>-0.001258</td>\n",
       "      <td>-1.005500</td>\n",
       "    </tr>\n",
       "    <tr>\n",
       "      <th>...</th>\n",
       "      <td>...</td>\n",
       "      <td>...</td>\n",
       "      <td>...</td>\n",
       "      <td>...</td>\n",
       "      <td>...</td>\n",
       "      <td>...</td>\n",
       "      <td>...</td>\n",
       "      <td>...</td>\n",
       "      <td>...</td>\n",
       "      <td>...</td>\n",
       "      <td>...</td>\n",
       "      <td>...</td>\n",
       "      <td>...</td>\n",
       "      <td>...</td>\n",
       "      <td>...</td>\n",
       "      <td>...</td>\n",
       "      <td>...</td>\n",
       "      <td>...</td>\n",
       "      <td>...</td>\n",
       "      <td>...</td>\n",
       "      <td>...</td>\n",
       "    </tr>\n",
       "    <tr>\n",
       "      <th>2016-12-26</th>\n",
       "      <td>0.444607</td>\n",
       "      <td>-0.166864</td>\n",
       "      <td>0.490794</td>\n",
       "      <td>1.352778</td>\n",
       "      <td>-0.209027</td>\n",
       "      <td>0.739406</td>\n",
       "      <td>0.051152</td>\n",
       "      <td>0.201033</td>\n",
       "      <td>-0.947114</td>\n",
       "      <td>-0.217432</td>\n",
       "      <td>...</td>\n",
       "      <td>0.117932</td>\n",
       "      <td>-0.256818</td>\n",
       "      <td>0.340672</td>\n",
       "      <td>-0.478231</td>\n",
       "      <td>-0.215298</td>\n",
       "      <td>0.215507</td>\n",
       "      <td>-1.315654</td>\n",
       "      <td>0.327056</td>\n",
       "      <td>0.725337</td>\n",
       "      <td>-0.609611</td>\n",
       "    </tr>\n",
       "    <tr>\n",
       "      <th>2016-12-27</th>\n",
       "      <td>-0.348775</td>\n",
       "      <td>1.141544</td>\n",
       "      <td>0.803933</td>\n",
       "      <td>-0.568774</td>\n",
       "      <td>1.558456</td>\n",
       "      <td>-0.640764</td>\n",
       "      <td>-0.533989</td>\n",
       "      <td>-0.484085</td>\n",
       "      <td>0.056316</td>\n",
       "      <td>0.051761</td>\n",
       "      <td>...</td>\n",
       "      <td>-1.287684</td>\n",
       "      <td>-0.591816</td>\n",
       "      <td>-0.346849</td>\n",
       "      <td>-1.748134</td>\n",
       "      <td>-0.263520</td>\n",
       "      <td>-0.168736</td>\n",
       "      <td>-0.173275</td>\n",
       "      <td>-0.355122</td>\n",
       "      <td>0.309453</td>\n",
       "      <td>1.559758</td>\n",
       "    </tr>\n",
       "    <tr>\n",
       "      <th>2016-12-28</th>\n",
       "      <td>0.359426</td>\n",
       "      <td>-0.051374</td>\n",
       "      <td>-0.471433</td>\n",
       "      <td>-1.345810</td>\n",
       "      <td>-0.804073</td>\n",
       "      <td>0.048432</td>\n",
       "      <td>0.349308</td>\n",
       "      <td>-0.059018</td>\n",
       "      <td>-1.224465</td>\n",
       "      <td>-0.698716</td>\n",
       "      <td>...</td>\n",
       "      <td>-1.509601</td>\n",
       "      <td>-0.000532</td>\n",
       "      <td>-1.332610</td>\n",
       "      <td>-0.508546</td>\n",
       "      <td>-0.234190</td>\n",
       "      <td>-0.933793</td>\n",
       "      <td>-0.976983</td>\n",
       "      <td>-0.440161</td>\n",
       "      <td>-0.499931</td>\n",
       "      <td>-1.016103</td>\n",
       "    </tr>\n",
       "    <tr>\n",
       "      <th>2016-12-29</th>\n",
       "      <td>0.690954</td>\n",
       "      <td>0.797129</td>\n",
       "      <td>0.205855</td>\n",
       "      <td>-0.491611</td>\n",
       "      <td>-0.087136</td>\n",
       "      <td>0.634841</td>\n",
       "      <td>0.805576</td>\n",
       "      <td>0.559777</td>\n",
       "      <td>-0.092234</td>\n",
       "      <td>0.784198</td>\n",
       "      <td>...</td>\n",
       "      <td>-0.484223</td>\n",
       "      <td>0.068687</td>\n",
       "      <td>-0.469565</td>\n",
       "      <td>0.007389</td>\n",
       "      <td>0.549779</td>\n",
       "      <td>-0.379269</td>\n",
       "      <td>0.521486</td>\n",
       "      <td>-0.048840</td>\n",
       "      <td>0.222684</td>\n",
       "      <td>1.777416</td>\n",
       "    </tr>\n",
       "    <tr>\n",
       "      <th>2016-12-30</th>\n",
       "      <td>0.203669</td>\n",
       "      <td>0.765792</td>\n",
       "      <td>1.290425</td>\n",
       "      <td>2.075103</td>\n",
       "      <td>0.964870</td>\n",
       "      <td>0.599338</td>\n",
       "      <td>1.024995</td>\n",
       "      <td>1.750635</td>\n",
       "      <td>0.836458</td>\n",
       "      <td>0.501788</td>\n",
       "      <td>...</td>\n",
       "      <td>1.399667</td>\n",
       "      <td>0.870133</td>\n",
       "      <td>1.853361</td>\n",
       "      <td>1.605442</td>\n",
       "      <td>1.104971</td>\n",
       "      <td>1.745430</td>\n",
       "      <td>1.213660</td>\n",
       "      <td>0.588669</td>\n",
       "      <td>1.305318</td>\n",
       "      <td>2.104630</td>\n",
       "    </tr>\n",
       "  </tbody>\n",
       "</table>\n",
       "<p>1202 rows × 50 columns</p>\n",
       "</div>"
      ],
      "text/plain": [
       "                  0         1         2         3         4         5   \\\n",
       "time                                                                     \n",
       "2012-01-04 -0.032098 -0.079362 -2.581187 -1.669733  0.715064 -1.899398   \n",
       "2012-01-05  0.002221  0.000879  1.652383 -1.661587  0.201559  0.042201   \n",
       "2012-01-06  0.120663  0.115396  3.797229  1.872265  1.451950  2.550507   \n",
       "2012-01-09  0.121831  0.129178  0.777698  2.083689  0.800062  1.453227   \n",
       "2012-01-20 -0.049930 -0.012829 -0.174291 -0.409359 -0.738610 -0.616187   \n",
       "...              ...       ...       ...       ...       ...       ...   \n",
       "2016-12-26  0.444607 -0.166864  0.490794  1.352778 -0.209027  0.739406   \n",
       "2016-12-27 -0.348775  1.141544  0.803933 -0.568774  1.558456 -0.640764   \n",
       "2016-12-28  0.359426 -0.051374 -0.471433 -1.345810 -0.804073  0.048432   \n",
       "2016-12-29  0.690954  0.797129  0.205855 -0.491611 -0.087136  0.634841   \n",
       "2016-12-30  0.203669  0.765792  1.290425  2.075103  0.964870  0.599338   \n",
       "\n",
       "                  6         7         8         9   ...        40        41  \\\n",
       "time                                                ...                       \n",
       "2012-01-04 -2.284129 -1.283361 -0.749351 -2.792490  ... -3.675813 -2.206464   \n",
       "2012-01-05 -0.413659  0.419744  0.759148  0.293374  ...  0.321707  0.155930   \n",
       "2012-01-06  4.488546  1.159635  3.095955  1.686151  ...  3.187879  2.009757   \n",
       "2012-01-09  1.637506  0.100732  0.869779  0.905483  ...  0.708306  1.227970   \n",
       "2012-01-20  0.452191 -0.384565 -0.368371 -0.249831  ... -0.432987 -1.028427   \n",
       "...              ...       ...       ...       ...  ...       ...       ...   \n",
       "2016-12-26  0.051152  0.201033 -0.947114 -0.217432  ...  0.117932 -0.256818   \n",
       "2016-12-27 -0.533989 -0.484085  0.056316  0.051761  ... -1.287684 -0.591816   \n",
       "2016-12-28  0.349308 -0.059018 -1.224465 -0.698716  ... -1.509601 -0.000532   \n",
       "2016-12-29  0.805576  0.559777 -0.092234  0.784198  ... -0.484223  0.068687   \n",
       "2016-12-30  1.024995  1.750635  0.836458  0.501788  ...  1.399667  0.870133   \n",
       "\n",
       "                  42        43        44        45        46        47  \\\n",
       "time                                                                     \n",
       "2012-01-04 -3.611726 -1.710423 -1.731054 -2.888286 -1.682429 -1.844127   \n",
       "2012-01-05  1.089889  0.047030  1.183222  0.320307  0.705482 -0.489973   \n",
       "2012-01-06  4.261969  2.885819  2.025798  3.400562  3.893559  0.675061   \n",
       "2012-01-09  1.334541  2.076389  1.197658  0.608943  0.998329  1.007285   \n",
       "2012-01-20  0.206277  0.165140 -0.591178 -0.674168 -0.129555  0.105183   \n",
       "...              ...       ...       ...       ...       ...       ...   \n",
       "2016-12-26  0.340672 -0.478231 -0.215298  0.215507 -1.315654  0.327056   \n",
       "2016-12-27 -0.346849 -1.748134 -0.263520 -0.168736 -0.173275 -0.355122   \n",
       "2016-12-28 -1.332610 -0.508546 -0.234190 -0.933793 -0.976983 -0.440161   \n",
       "2016-12-29 -0.469565  0.007389  0.549779 -0.379269  0.521486 -0.048840   \n",
       "2016-12-30  1.853361  1.605442  1.104971  1.745430  1.213660  0.588669   \n",
       "\n",
       "                  48        49  \n",
       "time                            \n",
       "2012-01-04  0.003359 -3.045890  \n",
       "2012-01-05  0.000008  0.044368  \n",
       "2012-01-06  0.096992  2.870962  \n",
       "2012-01-09 -0.016922  2.139209  \n",
       "2012-01-20 -0.001258 -1.005500  \n",
       "...              ...       ...  \n",
       "2016-12-26  0.725337 -0.609611  \n",
       "2016-12-27  0.309453  1.559758  \n",
       "2016-12-28 -0.499931 -1.016103  \n",
       "2016-12-29  0.222684  1.777416  \n",
       "2016-12-30  1.305318  2.104630  \n",
       "\n",
       "[1202 rows x 50 columns]"
      ]
     },
     "execution_count": 12,
     "metadata": {},
     "output_type": "execute_result"
    }
   ],
   "source": [
    "utils.backtest.resample_experiments_DR_conditional(exp_num = 50, \n",
    "                                                   sample_stock_num = 20, \n",
    "                                                   solver = solvers.DRconditionalmeanvariance\\\n",
    "                                                   .DR_W2_conditional_mean_variance_long_only_opt_cvx_kernel, \n",
    "                                                   reg_params = 1, \n",
    "                                                   epsilon = 0.5, \n",
    "                                                   rho_div_rho_min = 1.1)"
   ]
  },
  {
   "cell_type": "code",
   "execution_count": 80,
   "metadata": {},
   "outputs": [],
   "source": [
    "x = cp.Variable(20)\n",
    "N = x.shape[0]"
   ]
  },
  {
   "cell_type": "code",
   "execution_count": 86,
   "metadata": {},
   "outputs": [
    {
     "data": {
      "text/plain": [
       "Expression(CONVEX, NONNEGATIVE, (20, 1))"
      ]
     },
     "execution_count": 86,
     "metadata": {},
     "output_type": "execute_result"
    }
   ],
   "source": []
  },
  {
   "cell_type": "code",
   "execution_count": null,
   "metadata": {},
   "outputs": [],
   "source": []
  }
 ],
 "metadata": {
  "kernelspec": {
   "display_name": "Python 3",
   "language": "python",
   "name": "python3"
  },
  "language_info": {
   "codemirror_mode": {
    "name": "ipython",
    "version": 3
   },
   "file_extension": ".py",
   "mimetype": "text/x-python",
   "name": "python",
   "nbconvert_exporter": "python",
   "pygments_lexer": "ipython3",
   "version": "3.6.8"
  }
 },
 "nbformat": 4,
 "nbformat_minor": 4
}
