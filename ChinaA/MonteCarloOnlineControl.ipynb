{
 "cells": [
  {
   "cell_type": "markdown",
   "metadata": {},
   "source": [
    "# 1. Review: Monte Carlo Online Control"
   ]
  },
  {
   "cell_type": "markdown",
   "metadata": {},
   "source": [
    "In this notebook we will apply Monte Carlo Online Control to design a trading policy for the stock in Chinese market."
   ]
  },
  {
   "cell_type": "markdown",
   "metadata": {},
   "source": [
    "We briefly review the algorithm for Monte Carlo Online Control:\n",
    "\n",
    "Initialize $Q(s,a) = 0, N(s,a) = 0$, Set $\\epsilon = 1, k = 1$; \n",
    "\n",
    "$\\pi_k = \\epsilon-Greedy(Q)$;\n",
    "\n",
    "**Begin Loop**\n",
    "\n",
    "Sample k-th episode ($s_{k,1},a_{k,1},r_{k,1},s_{k,2},a_{k,2},r_{k,2},\\ldots$) given $\\pi_k$;\n",
    "\n",
    "$G_{k,t} = r_{k,t}+\\gamma r_{k,{t+1}} + \\gamma^2 r_{k,{t+2}} + \\ldots$;\n",
    "\n",
    "**For t = 1,...,T:**\n",
    "\n",
    "If this is the first visit to $(s,a)$ in episode $k$,\n",
    "let $N(s,a) = N(s,a)+1$, $Q(s,a) = Q(s,a) + (N(s,a))^{-1}\\times(G_{k,t} - Q(s,a))$;\n",
    "\n",
    "**End For**\n",
    "\n",
    "$k = k+1$, $\\epsilon = 1/k$;\n",
    "\n",
    "$\\pi_k = \\epsilon-Greedy(Q)$;\n",
    "\n",
    "**End Loop**"
   ]
  },
  {
   "cell_type": "markdown",
   "metadata": {},
   "source": [
    "# 2. Implementation\n",
    "\n",
    "## 2.1 Load data"
   ]
  },
  {
   "cell_type": "code",
   "execution_count": 1,
   "metadata": {},
   "outputs": [],
   "source": [
    "import tushare\n",
    "import numpy as np\n",
    "import pandas as pd\n",
    "import matplotlib.pyplot as plt\n",
    "from single_stock_pi import SingleStockPI"
   ]
  },
  {
   "cell_type": "code",
   "execution_count": 2,
   "metadata": {},
   "outputs": [],
   "source": [
    "pro = tushare.pro_api()\n",
    "ts_code_list = pro.stock_basic(exchange='', list_status='L', fields='ts_code')['ts_code'][:100]\n",
    "\n",
    "def download_data(ts_code_list):\n",
    "    for ts_code in ts_code_list:\n",
    "        start_date = '20100101'\n",
    "        end_date = '20200101'\n",
    "        df = tushare.pro_bar(ts_code=ts_code, adj='qfq', start_date=start_date, end_date=end_date)\n",
    "        df.to_csv('./data/' + ts_code, mode = 'w')\n",
    "    print(\"done\")\n",
    "    \n",
    "def load_data(ts_code):\n",
    "    filepath = './data/' + ts_code\n",
    "    df = pd.read_csv(filepath)\n",
    "    return df"
   ]
  },
  {
   "cell_type": "code",
   "execution_count": 3,
   "metadata": {},
   "outputs": [],
   "source": [
    "# load data and reverse the time series\n",
    "ts_code = '000002.SZ'\n",
    "df = load_data(ts_code)\n",
    "df = df.set_index(df.index[::-1]).sort_index()"
   ]
  },
  {
   "cell_type": "markdown",
   "metadata": {},
   "source": [
    "## 2.2 Data Preprocess"
   ]
  },
  {
   "cell_type": "markdown",
   "metadata": {},
   "source": [
    "We need to design a discretization function that transforms the K-dimensional features into an interger that represents the current state $s$."
   ]
  },
  {
   "cell_type": "code",
   "execution_count": 4,
   "metadata": {},
   "outputs": [],
   "source": [
    "def compute_split_list(features, alphas_list):\n",
    "    \"\"\"\n",
    "    Function that compute the split list for discretization\n",
    "    \n",
    "    Input:\n",
    "    features: N * K numpy array, N obs, K features \n",
    "              NOTE: Here features should be data in the training set.\n",
    "              \n",
    "    alphas_list: [alphas[1], ..., alphas[K]]\n",
    "              each alphas[i] is an array of spliting quantile for the i-th feature\n",
    "    \"\"\"\n",
    "    if len(np.shape(features)) == 1:\n",
    "        features = np.matrix(features).T\n",
    "    else:\n",
    "        features = np.matrix(features)\n",
    "    assert features.shape[1] == len(alphas_list)\n",
    "    N, K = features.shape\n",
    "    splits_list = []\n",
    "    for f_id in range(K):\n",
    "        splits_list.append([-np.inf] + [np.quantile(features[:,f_id],alpha) for alpha in alphas_list[f_id]] \n",
    "                            + [np.inf])\n",
    "    return splits_list\n",
    "    \n",
    "def discretize(features, splits_list):\n",
    "    \"\"\"\n",
    "    Function that transforms the features matrix into discrete state\n",
    "    \n",
    "    Input:\n",
    "    Features: N * K numpy array, N obs, K features\n",
    "    split_list: [splits[1], ..., splits[K]]\n",
    "            each splits[i] is an array of spliting position for the i-th feature\n",
    "    \"\"\"\n",
    "    if len(np.shape(features)) == 1:\n",
    "        features = np.matrix(features).T\n",
    "    else:\n",
    "        features = np.matrix(features)\n",
    "    assert features.shape[1] == len(splits_list)\n",
    "    N, K = features.shape\n",
    "    num_group_list = np.array([len(splits) - 1 for splits in splits_list])\n",
    "    discrete_features = np.zeros_like(features, dtype = np.int)\n",
    "    for f_id in range(K):\n",
    "        discrete_features[:,f_id] = np.digitize(features[:,f_id], splits_list[f_id]) - 1\n",
    "    S = np.zeros(N)\n",
    "    if K == 1:\n",
    "        S = np.array(discrete_features[:,0]).squeeze()\n",
    "    else:\n",
    "        S = np.array(discrete_features @ np.insert(np.cumprod(num_group_list[:-1]),0,1)).squeeze()\n",
    "    return S"
   ]
  },
  {
   "cell_type": "markdown",
   "metadata": {},
   "source": [
    "Apply random samples to validate the efficacy of function `discretize`."
   ]
  },
  {
   "cell_type": "code",
   "execution_count": 5,
   "metadata": {},
   "outputs": [
    {
     "name": "stdout",
     "output_type": "stream",
     "text": [
      "[[-inf, 0.24293040355433565, 0.488998031705749, 0.7489711934616732, inf], [-inf, 0.24990388609953232, 0.49746013931918, 0.7522388579812096, inf]]\n"
     ]
    },
    {
     "data": {
      "image/png": "[encoded data removed]",
      "text/plain": [
       "<Figure size 432x288 with 1 Axes>"
      ]
     },
     "metadata": {
      "needs_background": "light"
     },
     "output_type": "display_data"
    }
   ],
   "source": [
    "rand_data = np.random.rand(20000).reshape((10000,2))\n",
    "rand_alphas_list = [[0.25,0.5,0.75],[0.25,0.5,0.75]]\n",
    "rand_split = compute_split_list(rand_data, rand_alphas_list)\n",
    "print(rand_split)\n",
    "m = discretize(rand_data, rand_split)\n",
    "plt.hist(m, bins = np.arange(-0.5,16.5,1),rwidth = 0.5)\n",
    "plt.show()"
   ]
  },
  {
   "cell_type": "markdown",
   "metadata": {},
   "source": [
    "Do discretization for stock data with multiple features "
   ]
  },
  {
   "cell_type": "code",
   "execution_count": 6,
   "metadata": {},
   "outputs": [
    {
     "data": {
      "text/plain": [
       "(2271, 2)"
      ]
     },
     "execution_count": 6,
     "metadata": {},
     "output_type": "execute_result"
    }
   ],
   "source": [
    "df['1_day_pct_chg'] = df['close'].pct_change(1)\n",
    "df['5_day_pct_chg'] = df['close'].pct_change(5)\n",
    "features = df[{\"1_day_pct_chg\", \"5_day_pct_chg\"}].to_numpy()[5:]\n",
    "features.shape"
   ]
  },
  {
   "cell_type": "markdown",
   "metadata": {},
   "source": [
    "Compute Split points for stock data:"
   ]
  },
  {
   "cell_type": "code",
   "execution_count": 7,
   "metadata": {},
   "outputs": [
    {
     "data": {
      "text/plain": [
       "[[-inf,\n",
       "  -0.02894802954537684,\n",
       "  0.0006953474445621222,\n",
       "  0.031767535502564226,\n",
       "  inf],\n",
       " [-inf,\n",
       "  -0.012615851489540336,\n",
       "  -0.0004074703221155773,\n",
       "  0.011455619467034661,\n",
       "  inf]]"
      ]
     },
     "execution_count": 7,
     "metadata": {},
     "output_type": "execute_result"
    }
   ],
   "source": [
    "training_set_size = 2000\n",
    "features_train = features[:training_set_size,:]\n",
    "alphas_list = [[0.25,0.5,0.75],[0.25,0.5,0.75]]\n",
    "split_list = compute_split_list(features_train, alphas_list)\n",
    "split_list"
   ]
  },
  {
   "cell_type": "markdown",
   "metadata": {},
   "source": [
    "compute state id:"
   ]
  },
  {
   "cell_type": "code",
   "execution_count": 8,
   "metadata": {},
   "outputs": [],
   "source": [
    "S = discretize(features, split_list)[:-1]"
   ]
  },
  {
   "cell_type": "markdown",
   "metadata": {},
   "source": [
    "visualize the distribution of S, make sure every state has enough data."
   ]
  },
  {
   "cell_type": "code",
   "execution_count": 9,
   "metadata": {},
   "outputs": [
    {
     "data": {
      "image/png": "[encoded data removed]",
      "text/plain": [
       "<Figure size 432x288 with 1 Axes>"
      ]
     },
     "metadata": {
      "needs_background": "light"
     },
     "output_type": "display_data"
    }
   ],
   "source": [
    "plt.hist(S, bins = np.arange(-0.5,16.5,1), rwidth = 0.5)\n",
    "plt.show()"
   ]
  },
  {
   "cell_type": "markdown",
   "metadata": {},
   "source": [
    "## 2.3 Implementation of MCOC"
   ]
  },
  {
   "cell_type": "markdown",
   "metadata": {},
   "source": [
    "$S = \\{0,1,...,15\\}$, $A = \\{0(\\text{zero position}), 1(\\text{full position})\\}$"
   ]
  },
  {
   "cell_type": "code",
   "execution_count": 10,
   "metadata": {},
   "outputs": [],
   "source": [
    "numS = 16\n",
    "numA = 2\n",
    "next_log_return = np.log(1+df['pct_chg'].shift(-1)/100)[5:-1].to_numpy()\n",
    "\n",
    "def epsilon_greedy(s_episode, epsilon, Q_SA):\n",
    "    # helper function that computes the epsilon-greedy policy\n",
    "    \n",
    "    indicators = np.random.binomial(1, epsilon, size = len(s_episode))\n",
    "    a_argmax = np.argmax(Q_SA[s_episode,:], axis = 1)\n",
    "    a_rand = np.random.randint(numA, size = len(s_episode))\n",
    "    a_episode = a_argmax\n",
    "    a_episode[indicators == 1] = a_rand[indicators == 1]\n",
    "    \n",
    "    return a_episode\n",
    "    \n",
    "def Monte_Carlo_control(S, next_log_return, gamma, episode_length):\n",
    "    # learn trading policy using Monte Carlo method\n",
    "    \n",
    "    N_SA = np.zeros((numS, numA))\n",
    "    Q_SA = np.zeros((numS, numA))\n",
    "    log_returns = np.array([])\n",
    "    \n",
    "    gamma_power_list = np.logspace(0, episode_length, num=episode_length+1, base=gamma)\n",
    "    epsilon, k = 1, 1\n",
    "    \n",
    "    while k*episode_length <= len(S):\n",
    "        s_episode = S[(k-1)*episode_length:k*episode_length]\n",
    "        a_episode = epsilon_greedy(s_episode, epsilon, Q_SA)\n",
    "        r_episode = a_episode * next_log_return[(k-1)*episode_length:k*episode_length]\n",
    "        log_returns = np.append(log_returns,r_episode)\n",
    "        \n",
    "        sa_set = set()\n",
    "        for idx in range(episode_length):\n",
    "            s, a = s_episode[idx], a_episode[idx]\n",
    "            G_sa = np.sum(r_episode[idx:] * gamma_power_list[:-(idx+1)])\n",
    "            if (s, a) not in sa_set:\n",
    "                sa_set.add((s,a))\n",
    "                N_SA[s,a] += 1\n",
    "                Q_SA[s,a] = Q_SA[s,a] + (G_sa - Q_SA[s,a])/N_SA[s,a]\n",
    "                \n",
    "        k = k + 1\n",
    "        epsilon = 1/k\n",
    "    \n",
    "    s_episode = S[(k-1)*episode_length:]\n",
    "    a_episode = epsilon_greedy(s_episode, epsilon, Q_SA)\n",
    "    r_episode = a_episode * next_log_return[(k-1)*episode_length:]\n",
    "    \n",
    "    log_returns = np.append(log_returns,r_episode)\n",
    "    \n",
    "    return log_returns"
   ]
  },
  {
   "cell_type": "code",
   "execution_count": 11,
   "metadata": {},
   "outputs": [],
   "source": [
    "policy_log_returns = Monte_Carlo_control(S, next_log_return, gamma = 0.95, episode_length = 20)"
   ]
  },
  {
   "cell_type": "markdown",
   "metadata": {},
   "source": [
    "Performance in the first year:"
   ]
  },
  {
   "cell_type": "code",
   "execution_count": 12,
   "metadata": {},
   "outputs": [
    {
     "data": {
      "image/png": "[encoded data removed]",
      "text/plain": [
       "<Figure size 432x288 with 1 Axes>"
      ]
     },
     "metadata": {
      "needs_background": "light"
     },
     "output_type": "display_data"
    }
   ],
   "source": [
    "def plot1():\n",
    "    plt.plot(np.exp(np.cumsum(next_log_return[:200])))\n",
    "    plt.plot(np.exp(np.cumsum(policy_log_returns[:200])))\n",
    "    plt.legend([\"stock\",\"policy\"])\n",
    "    plt.xlabel('trading days')\n",
    "    plt.ylabel('normalized wealth')\n",
    "    plt.show()\n",
    "plot1()"
   ]
  },
  {
   "cell_type": "markdown",
   "metadata": {},
   "source": [
    "Performance after the 1500 trading days:"
   ]
  },
  {
   "cell_type": "code",
   "execution_count": 13,
   "metadata": {},
   "outputs": [
    {
     "data": {
      "image/png": "[encoded data removed]",
      "text/plain": [
       "<Figure size 432x288 with 1 Axes>"
      ]
     },
     "metadata": {
      "needs_background": "light"
     },
     "output_type": "display_data"
    }
   ],
   "source": [
    "def plot2():\n",
    "    days = range(training_set_size, training_set_size + len(policy_log_returns[training_set_size:]))\n",
    "    plt.plot(days, np.exp(np.cumsum(next_log_return[training_set_size:])))\n",
    "    plt.plot(days, np.exp(np.cumsum(policy_log_returns[training_set_size:])))\n",
    "    plt.legend([\"stock\",\"policy\"])\n",
    "    plt.xlabel('trading days')\n",
    "    plt.ylabel('normalized wealth')\n",
    "    plt.show()\n",
    "plot2()"
   ]
  },
  {
   "cell_type": "code",
   "execution_count": 14,
   "metadata": {},
   "outputs": [
    {
     "data": {
      "image/png": "[encoded data removed]",
      "text/plain": [
       "<Figure size 432x288 with 1 Axes>"
      ]
     },
     "metadata": {
      "needs_background": "light"
     },
     "output_type": "display_data"
    }
   ],
   "source": [
    "def plot3():\n",
    "    plt.hist(100*(np.exp(next_log_return)-1), bins = 100, alpha = 0.7)\n",
    "    plt.hist(100*(np.exp(policy_log_returns[policy_log_returns!=0])-1), bins = 100, alpha = 0.7)\n",
    "    plt.legend([\"stock\",\"policy\"])\n",
    "    plt.xlabel('daily pct returns (%)')\n",
    "    plt.ylabel('frequency')\n",
    "    plt.title(ts_code)\n",
    "    plt.show()\n",
    "plot3()"
   ]
  },
  {
   "cell_type": "markdown",
   "metadata": {},
   "source": [
    "# 3 Test the performance of MCOC on multiple stocks "
   ]
  },
  {
   "cell_type": "code",
   "execution_count": 15,
   "metadata": {},
   "outputs": [],
   "source": [
    "stock_return_list = np.array([])\n",
    "policy_return_list = np.array([])\n",
    "for ts_code in ts_code_list:\n",
    "    if ts_code == '000029.SZ':\n",
    "        # 停牌\n",
    "        continue\n",
    "    df = load_data(ts_code)\n",
    "    df = df.set_index(df.index[::-1]).sort_index()\n",
    "    \n",
    "    df['1_day_pct_chg'] = df['close'].pct_change(1)\n",
    "    df['5_day_pct_chg'] = df['close'].pct_change(5)\n",
    "    features = df[{\"1_day_pct_chg\", \"5_day_pct_chg\"}].to_numpy()[5:]\n",
    "    \n",
    "    training_set_size = len(df) - 200\n",
    "    features_train = features[:training_set_size,:]\n",
    "    alphas_list = [[0.25,0.5,0.75],[0.25,0.5,0.75]]\n",
    "    split_list = compute_split_list(features_train, alphas_list)\n",
    "    S = discretize(features, split_list)[:-1]\n",
    "    \n",
    "    numS = 16\n",
    "    numA = 2\n",
    "    \n",
    "    next_log_return = np.log(1+df['pct_chg'].shift(-1)/100)[5:-1].to_numpy()\n",
    "    policy_log_returns = Monte_Carlo_control(S, next_log_return, gamma = 0.95, episode_length = 20)\n",
    "    \n",
    "    stock_return_test = np.exp(np.sum(next_log_return[training_set_size:]))\n",
    "    policy_return_test = np.exp(np.sum(policy_log_returns[training_set_size:]))\n",
    "    stock_return_list = np.append(stock_return_list,stock_return_test)\n",
    "    policy_return_list = np.append(policy_return_list,policy_return_test)"
   ]
  },
  {
   "cell_type": "code",
   "execution_count": 16,
   "metadata": {},
   "outputs": [
    {
     "data": {
      "image/png": "[encoded data removed]",
      "text/plain": [
       "<Figure size 432x288 with 1 Axes>"
      ]
     },
     "metadata": {
      "needs_background": "light"
     },
     "output_type": "display_data"
    }
   ],
   "source": [
    "plt.hist(stock_return_list, bins = 20, alpha = 0.7)\n",
    "plt.hist(policy_return_list, bins = 20, alpha = 0.7)\n",
    "plt.legend([\"stock\",\"policy\"])\n",
    "plt.xlabel('return in last 200 trading days')\n",
    "plt.ylabel('frequency')\n",
    "plt.show()"
   ]
  },
  {
   "cell_type": "markdown",
   "metadata": {},
   "source": [
    "Winning Rate:"
   ]
  },
  {
   "cell_type": "code",
   "execution_count": 17,
   "metadata": {},
   "outputs": [
    {
     "data": {
      "text/plain": [
       "0.5656565656565656"
      ]
     },
     "execution_count": 17,
     "metadata": {},
     "output_type": "execute_result"
    }
   ],
   "source": [
    "sum(np.array(stock_return_list) < np.array(policy_return_list))/len(stock_return_list)"
   ]
  },
  {
   "cell_type": "markdown",
   "metadata": {},
   "source": [
    "Mean Excess Return:"
   ]
  },
  {
   "cell_type": "code",
   "execution_count": 18,
   "metadata": {},
   "outputs": [
    {
     "data": {
      "text/plain": [
       "0.016312598446038468"
      ]
     },
     "execution_count": 18,
     "metadata": {},
     "output_type": "execute_result"
    }
   ],
   "source": [
    "np.mean(policy_return_list-stock_return_list)"
   ]
  },
  {
   "cell_type": "code",
   "execution_count": null,
   "metadata": {},
   "outputs": [],
   "source": []
  },
  {
   "cell_type": "code",
   "execution_count": null,
   "metadata": {},
   "outputs": [],
   "source": []
  }
 ],
 "metadata": {
  "kernelspec": {
   "display_name": "Python 3",
   "language": "python",
   "name": "python3"
  },
  "language_info": {
   "codemirror_mode": {
    "name": "ipython",
    "version": 3
   },
   "file_extension": ".py",
   "mimetype": "text/x-python",
   "name": "python",
   "nbconvert_exporter": "python",
   "pygments_lexer": "ipython3",
   "version": "3.6.8"
  }
 },
 "nbformat": 4,
 "nbformat_minor": 2
}
